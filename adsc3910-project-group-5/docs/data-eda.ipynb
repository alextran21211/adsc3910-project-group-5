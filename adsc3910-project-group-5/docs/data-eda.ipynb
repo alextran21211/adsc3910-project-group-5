{
 "cells": [
  {
   "cell_type": "markdown",
   "metadata": {},
   "source": [
    "# Dataset description"
   ]
  },
  {
   "cell_type": "markdown",
   "metadata": {},
   "source": [
    "Group number: Group 5\n"
   ]
  },
  {
   "cell_type": "markdown",
   "metadata": {},
   "source": [
    "Team members: \n",
    "1. Sayantika Saha  - T00731231\n",
    "2. Manisha K - T00727938\n",
    "3. Huynh Hiep Tran (preferred name: Alex Tran) - T00728369\n",
    "4. Precious - T00727498"
   ]
  },
  {
   "cell_type": "markdown",
   "metadata": {},
   "source": [
    "## Introduction"
   ]
  },
  {
   "cell_type": "markdown",
   "metadata": {},
   "source": [
    "- Dataset name : Emission by Country\n",
    "- Authors - The Devastator (Owner)\n",
    "- Source/URL - https://www.kaggle.com/datasets/thedevastator/global-fossil-co2-emissions-by-country-2002-2022?select=GCB2022v27_MtCO2_flat_metadata.json\n",
    "- A brief description of what the dataset is about - This dataset provides an in-depth look into the global CO2 emissions at the country-level, allowing for a better understanding of how much each country contributes to the global cumulative human impact on climate. It contains information on total emissions as well as from coal, oil, gas, cement production and flaring, and other sources. The data also provides a breakdown of per capita CO2 emission per country - showing which countries are leading in pollution levels and identifying potential areas where reduction efforts should be concentrated. This dataset is essential for anyone who wants to get informed about their own environmental footprint or conduct research on international development trends"
   ]
  },
  {
   "cell_type": "markdown",
   "metadata": {},
   "source": [
    "## General information"
   ]
  },
  {
   "cell_type": "markdown",
   "metadata": {},
   "source": [
    "- Data format : JSON\n",
    "- How many files/collections : 2 files\n",
    "- Data size in terms of storage : 2MB"
   ]
  },
  {
   "cell_type": "markdown",
   "metadata": {},
   "source": [
    "## Import data"
   ]
  },
  {
   "cell_type": "code",
   "execution_count": 4,
   "metadata": {},
   "outputs": [
    {
     "ename": "NameError",
     "evalue": "name 'client' is not defined",
     "output_type": "error",
     "traceback": [
      "\u001b[1;31m---------------------------------------------------------------------------\u001b[0m",
      "\u001b[1;31mNameError\u001b[0m                                 Traceback (most recent call last)",
      "Cell \u001b[1;32mIn[4], line 4\u001b[0m\n\u001b[0;32m      1\u001b[0m \u001b[38;5;28;01mfrom\u001b[39;00m \u001b[38;5;21;01mpymongo\u001b[39;00m\u001b[38;5;21;01m.\u001b[39;00m\u001b[38;5;21;01merrors\u001b[39;00m \u001b[38;5;28;01mimport\u001b[39;00m ConnectionFailure\n\u001b[0;32m      3\u001b[0m \u001b[38;5;28;01mtry\u001b[39;00m:\n\u001b[1;32m----> 4\u001b[0m     \u001b[43mclient\u001b[49m\u001b[38;5;241m.\u001b[39madmin\u001b[38;5;241m.\u001b[39mcommand(\u001b[38;5;124m'\u001b[39m\u001b[38;5;124mping\u001b[39m\u001b[38;5;124m'\u001b[39m)\n\u001b[0;32m      5\u001b[0m     \u001b[38;5;28mprint\u001b[39m(\u001b[38;5;124m\"\u001b[39m\u001b[38;5;124mConnected to MongoDB!\u001b[39m\u001b[38;5;124m\"\u001b[39m)\n\u001b[0;32m      6\u001b[0m \u001b[38;5;28;01mexcept\u001b[39;00m ConnectionFailure:\n",
      "\u001b[1;31mNameError\u001b[0m: name 'client' is not defined"
     ]
    }
   ],
   "source": [
    "from pymongo.errors import ConnectionFailure\n",
    "\n",
    "try:\n",
    "    client.admin.command('ping')\n",
    "    print(\"Connected to MongoDB!\")\n",
    "except ConnectionFailure:\n",
    "    print(\"Failed to connect to MongoDB.\")"
   ]
  },
  {
   "cell_type": "code",
   "execution_count": 7,
   "metadata": {},
   "outputs": [],
   "source": [
    "# YOUR CODE TO IMPORT THE DATA HERE\n",
    "from pymongo import MongoClient # import mongo client to connect\n",
    "import json # import json to load credentials\n",
    "import urllib.parse\n",
    "\n",
    "# load credentials from json file\n",
    "with open('credentials_mongodb.json') as f:\n",
    "    login = json.load(f)\n",
    "\n",
    "# assign credentials to variables\n",
    "username = login['username']\n",
    "password = urllib.parse.quote(login['password'])\n",
    "host = login['host']\n",
    "url = \"mongodb+srv://{}:{}@{}/?retryWrites=true&w=majority\".format(username, password, host)"
   ]
  },
  {
   "cell_type": "code",
   "execution_count": 8,
   "metadata": {},
   "outputs": [],
   "source": [
    "client = MongoClient(url)"
   ]
  },
  {
   "cell_type": "code",
   "execution_count": 9,
   "metadata": {},
   "outputs": [
    {
     "data": {
      "text/plain": [
       "['group_5_project', 'admin', 'local']"
      ]
     },
     "execution_count": 9,
     "metadata": {},
     "output_type": "execute_result"
    }
   ],
   "source": [
    "client.list_database_names()"
   ]
  },
  {
   "cell_type": "code",
   "execution_count": 12,
   "metadata": {},
   "outputs": [
    {
     "name": "stdout",
     "output_type": "stream",
     "text": [
      "collection 1: None\n",
      "Collection 2: None\n"
     ]
    }
   ],
   "source": [
    "# Access the 'group_5_project' database\n",
    "db = client['group_5_project']\n",
    "\n",
    "# Access a specific collection (replace 'your_collection_name' with the actual name)\n",
    "collection1 = db['owid-co2-data-part-0']\n",
    "collection2 = db['owid-co2-data-part-1']\n",
    "collection3 = db['owid-co2-data-part-2']\n",
    "collection4 = db['owid-co2-data-part-3']\n",
    "collection5 = db['owid-co2-data-part-4']\n",
    "collection6 = db['owid-co2-data-part-5']\n",
    "collection7 = db['owid-co2-data-part-6']\n",
    "collection8 = db['owid-co2-data-part-7']\n",
    "collection9 = db['owid-co2-data-part-8']\n",
    "collection10 = db['owid-co2-data-part-9']\n",
    "collection11 = db['owid-co2-data-part-10']\n",
    "\n",
    "\n",
    "\n",
    "# # Print all documents from the collection\n",
    "# for document in collection1.find():\n",
    "#     print(document)\n",
    "\n",
    "# for document2 in collection2.find():\n",
    "#     print(document2)\n",
    "\n",
    "\n",
    "# Fetch the first document from each collection\n",
    "sample_doc1 = collection1.find_one()\n",
    "sample_doc2 = collection2.find_one()\n",
    "sample_doc3 = collection3.find_one()\n",
    "sample_doc4 = collection4.find_one()\n",
    "sample_doc5 = collection5.find_one()\n",
    "sample_doc6 = collection6.find_one()\n",
    "sample_doc7 = collection7.find_one()\n",
    "sample_doc8 = collection8.find_one()\n",
    "sample_doc9 = collection9.find_one()\n",
    "sample_doc10 = collection10.find_one()\n",
    "sample_doc11 = collection11.find_one()\n",
    "\n",
    "print(\"collection 1:\",sample_doc1)\n",
    "print(\"Collection 2:\",sample_doc2)\n",
    "\n",
    "\n"
   ]
  },
  {
   "cell_type": "markdown",
   "metadata": {},
   "source": [
    "- Describe how many collections/how many documents\n",
    "- Describe the schema of the dataset/collection\n",
    "- Print out a sample document\n",
    "- List and briefly describe the most important fields/attributes in the dataset\n",
    "\n",
    "\n",
    "\n",
    "\n",
    "Based on the information provided, here's how you can describe the dataset:\n",
    "\n",
    "### 1. Describe Collections and Documents\n",
    "- **Collections**: There are two collections in the `group_5_project` database:\n",
    "  - `GCB2022v27_MtCO2_flat_metadata`\n",
    "  - `GCB2022v27_percapita_flat_metadata`\n",
    "  \n",
    "- **Documents**: Each collection contains **1 document**. \n",
    "\n",
    "### 2. Describe the Schema of the Dataset/Collection\n",
    "The schema for both collections appears to be similar, based on the sample documents retrieved. Each document has:\n",
    "- An `_id` field (automatically generated by MongoDB).\n",
    "- A `fields` array, which contains metadata about various attributes related to fossil CO2 emissions.\n",
    "\n",
    "Each entry in the `fields` array is an object that describes a specific attribute, including:\n",
    "- **name**: The key name for the field.\n",
    "- **title**: A descriptive title for the field.\n",
    "- **type**: The data type of the field (e.g., string, number).\n",
    "- **units** (where applicable): The units of measurement for the field.\n",
    "- **source**, **organisation**, **version**, **licence**, and **citation**: Additional metadata providing context for the data.\n",
    "\n",
    "### 3. List and Briefly Describe the Most Important Fields/Attributes\n",
    "Here are the most important fields/attributes found in the dataset:\n",
    "\n",
    "- **Country**: \n",
    "  - **Title**: Country name\n",
    "  - **Type**: string\n",
    "  - **Description**: The name of the country for which the data is recorded.\n",
    "\n",
    "- **ISO 3166-1 alpha-3**: \n",
    "  - **Title**: ISO code\n",
    "  - **Type**: string\n",
    "  - **Description**: The three-letter country code defined by ISO.\n",
    "\n",
    "- **Year**: \n",
    "  - **Title**: Year\n",
    "  - **Type**: number\n",
    "  - **Description**: The calendar year for which the emissions data is relevant.\n",
    "\n",
    "- **Total**: \n",
    "  - **Title**: Total fossil CO2 emissions\n",
    "  - **Units**: millions of tonnes of CO2\n",
    "  - **Type**: number\n",
    "  - **Description**: The total amount of fossil CO2 emissions for the specified country and year.\n",
    "\n",
    "- **Coal**: \n",
    "  - **Title**: Fossil CO2 emissions from Coal\n",
    "  - **Units**: millions of tonnes of CO2\n",
    "  - **Type**: number\n",
    "  - **Description**: The amount of CO2 emissions derived from coal.\n",
    "\n",
    "- **Oil**: \n",
    "  - **Title**: Fossil CO2 emissions from Oil\n",
    "  - **Units**: millions of tonnes of CO2\n",
    "  - **Type**: number\n",
    "  - **Description**: The amount of CO2 emissions derived from oil.\n",
    "\n",
    "- **Gas**: \n",
    "  - **Title**: Fossil CO2 emissions from Gas\n",
    "  - **Units**: millions of tonnes of CO2\n",
    "  - **Type**: number\n",
    "  - **Description**: The amount of CO2 emissions derived from natural gas.\n",
    "\n",
    "- **Cement**: \n",
    "  - **Title**: Fossil CO2 emissions from Cement\n",
    "  - **Units**: millions of tonnes of CO2\n",
    "  - **Type**: number\n",
    "  - **Description**: The amount of CO2 emissions derived from cement production.\n",
    "\n",
    "- **Flaring**: \n",
    "  - **Title**: Fossil CO2 emissions from Flaring\n",
    "  - **Units**: millions of tonnes of CO2\n",
    "  - **Type**: number\n",
    "  - **Description**: The amount of CO2 emissions resulting from flaring practices.\n",
    "\n",
    "- **Other**: \n",
    "  - **Title**: Fossil CO2 emissions from Other sources\n",
    "  - **Units**: millions of tonnes of CO2\n",
    "  - **Type**: number\n",
    "  - **Description**: CO2 emissions that cannot be categorized into the other specified sources.\n",
    "\n",
    "- **Per Capita**: \n",
    "  - **Title**: Per capita fossil CO2 emissions\n",
    "  - **Units**: tonnes of CO2 per capita\n",
    "  - **Type**: number\n",
    "  - **Description**: The average CO2 emissions per person in the specified country for the given year.\n",
    "\n"
   ]
  },
  {
   "cell_type": "code",
   "execution_count": 6,
   "metadata": {},
   "outputs": [
    {
     "name": "stdout",
     "output_type": "stream",
     "text": [
      "Number of documents in GCB2022v27_MtCO2_flat_metadata collection: 0\n",
      "Number of documents in GCB2022v27_percapita_flat_metadata collection: 0\n",
      "Countries with Total fossil CO2 emissions greater than 1000 million tonnes:\n",
      "Number of unique countries in GCB2022v27_MtCO2_flat_metadata: 0\n",
      "Number of unique countries in GCB2022v27_percapita_flat_metadata: 0\n"
     ]
    }
   ],
   "source": [
    "# YOUR CODE TO EXPLORE THE DATA HERE\n",
    "\n",
    "# Number of documents in each collection\n",
    "doc_count1 = collection1.count_documents({})\n",
    "doc_count2 = collection2.count_documents({})\n",
    "\n",
    "print(f\"Number of documents in GCB2022v27_MtCO2_flat_metadata collection: {doc_count1}\")\n",
    "print(f\"Number of documents in GCB2022v27_percapita_flat_metadata collection: {doc_count2}\")\n",
    "\n",
    "# Get the first 5 documents from the first collection and display the 'Country' and 'Total' fields only\n",
    "for doc in collection1.find({}, {\"fields.name\": 1, \"fields.Total\": 1}).limit(5):\n",
    "    print(doc)\n",
    "\n",
    "# Get the first 5 documents from the second collection and display the 'Country' and 'Per Capita' fields only\n",
    "for doc in collection2.find({}, {\"fields.name\": 1, \"fields.Per Capita\": 1}).limit(5):\n",
    "    print(doc)\n",
    "\n",
    "# Filter documents based on a condition (example, Total emissions greater than 1000 million tonnes of CO2)\n",
    "high_emissions = collection1.find({\"fields.Total\": {\"$gt\": 1000}}, {\"fields.name\": 1, \"fields.Total\": 1})\n",
    "\n",
    "print(\"Countries with Total fossil CO2 emissions greater than 1000 million tonnes:\")\n",
    "for doc in high_emissions:\n",
    "    print(doc)\n",
    "\n",
    "# Summarize the number of unique countries in the data\n",
    "countries1 = collection1.distinct(\"fields.name\")\n",
    "countries2 = collection2.distinct(\"fields.name\")\n",
    "\n",
    "print(f\"Number of unique countries in GCB2022v27_MtCO2_flat_metadata: {len(countries1)}\")\n",
    "print(f\"Number of unique countries in GCB2022v27_percapita_flat_metadata: {len(countries2)}\")\n"
   ]
  },
  {
   "cell_type": "markdown",
   "metadata": {},
   "source": [
    "## Submission instruction\n",
    "- Push the notebook to your group Github repository\n",
    "- Upload an URL to the `data-eda.ipynb` to Moodle under week 3 assignment"
   ]
  }
 ],
 "metadata": {
  "kernelspec": {
   "display_name": "base",
   "language": "python",
   "name": "python3"
  },
  "language_info": {
   "codemirror_mode": {
    "name": "ipython",
    "version": 3
   },
   "file_extension": ".py",
   "mimetype": "text/x-python",
   "name": "python",
   "nbconvert_exporter": "python",
   "pygments_lexer": "ipython3",
   "version": "3.9.18"
  }
 },
 "nbformat": 4,
 "nbformat_minor": 2
}
