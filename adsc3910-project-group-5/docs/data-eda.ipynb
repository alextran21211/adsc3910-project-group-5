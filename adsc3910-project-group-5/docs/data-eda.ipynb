{
 "cells": [
  {
   "cell_type": "markdown",
   "metadata": {},
   "source": [
    "# Dataset description"
   ]
  },
  {
   "cell_type": "markdown",
   "metadata": {},
   "source": [
    "Group number: Group 5\n"
   ]
  },
  {
   "cell_type": "markdown",
   "metadata": {},
   "source": [
    "Team members: \n",
    "1. Sayantika Saha  - T00731231\n",
    "2. Manisha K - T00727938\n",
    "3. Huynh Hiep Tran (preferred name: Alex Tran) - T00728369\n",
    "4. Precious - T00727498"
   ]
  },
  {
   "cell_type": "markdown",
   "metadata": {},
   "source": [
    "## Introduction"
   ]
  },
  {
   "cell_type": "markdown",
   "metadata": {},
   "source": [
    "- Dataset name : Emission by Country\n",
    "- Authors - The Devastator (Owner)\n",
    "- Source/URL - https://www.kaggle.com/datasets/thedevastator/global-fossil-co2-emissions-by-country-2002-2022?select=GCB2022v27_MtCO2_flat_metadata.json\n",
    "- A brief description of what the dataset is about - This dataset provides an in-depth look into the global CO2 emissions at the country-level, allowing for a better understanding of how much each country contributes to the global cumulative human impact on climate. It contains information on total emissions as well as from coal, oil, gas, cement production and flaring, and other sources. The data also provides a breakdown of per capita CO2 emission per country - showing which countries are leading in pollution levels and identifying potential areas where reduction efforts should be concentrated. This dataset is essential for anyone who wants to get informed about their own environmental footprint or conduct research on international development trends"
   ]
  },
  {
   "cell_type": "markdown",
   "metadata": {},
   "source": [
    "## General information"
   ]
  },
  {
   "cell_type": "markdown",
   "metadata": {},
   "source": [
    "- Data format : JSON\n",
    "- How many files/collections : 2 files\n",
    "- Data size in terms of storage : 2MB"
   ]
  },
  {
   "cell_type": "markdown",
   "metadata": {},
   "source": [
    "## Import data"
   ]
  },
  {
   "cell_type": "code",
   "execution_count": 3,
   "metadata": {},
   "outputs": [],
   "source": [
    "# YOUR CODE TO IMPORT THE DATA HERE\n",
    "from pymongo import MongoClient # import mongo client to connect\n",
    "import json # import json to load credentials\n",
    "import urllib.parse\n",
    "\n",
    "# load credentials from json file\n",
    "with open('credentials_mongodb.json') as f:\n",
    "    login = json.load(f)\n",
    "\n",
    "# assign credentials to variables\n",
    "username = login['username']\n",
    "password = urllib.parse.quote(login['password'])\n",
    "host = login['host']\n",
    "url = \"mongodb+srv://{}:{}@{}/?retryWrites=true&w=majority\".format(username, password, host)"
   ]
  },
  {
   "cell_type": "code",
   "execution_count": 5,
   "metadata": {},
   "outputs": [],
   "source": [
    "client = MongoClient(url)"
   ]
  },
  {
   "cell_type": "code",
   "execution_count": 7,
   "metadata": {},
   "outputs": [
    {
     "data": {
      "text/plain": [
       "['bookstore',\n",
       " 'group_5_project',\n",
       " 'sample_airbnb',\n",
       " 'sample_analytics',\n",
       " 'sample_geospatial',\n",
       " 'sample_guides',\n",
       " 'sample_mflix',\n",
       " 'sample_restaurants',\n",
       " 'sample_supplies',\n",
       " 'sample_training',\n",
       " 'sample_weatherdata',\n",
       " 'school',\n",
       " 'admin',\n",
       " 'local']"
      ]
     },
     "execution_count": 7,
     "metadata": {},
     "output_type": "execute_result"
    }
   ],
   "source": [
    "client.list_database_names()"
   ]
  },
  {
   "cell_type": "code",
   "execution_count": 20,
   "metadata": {},
   "outputs": [
    {
     "name": "stdout",
     "output_type": "stream",
     "text": [
      "{'_id': ObjectId('66f0f794f1049cc35ee1f58a'), 'fields': [{'name': 'Country', 'title': 'Country name', 'type': 'string'}, {'name': 'ISO 3166-1 alpha-3', 'title': 'ISO code', 'type': 'string'}, {'name': 'Year', 'title': 'Year', 'note': 'In almost all cases this is calendar year', 'type': 'number'}, {'name': 'Total', 'title': 'Total fossil CO2 emissions', 'units': 'millions of tonnes of CO2', 'source': 'Global Carbon Budget 2022', 'organisation': 'Global Carbon Project', 'version': '2022v27', 'type': 'number', 'licence': 'Licensed under Creative Commons Attribution 4.0 International', 'citation': 'Friedlingstein et al 2020 (DOI: 10.5194/essd-12-3269-2020)'}, {'name': 'Coal', 'title': 'Fossil CO2 emissions from Coal', 'units': 'millions of tonnes of CO2', 'source': 'Global Carbon Budget 2022', 'organisation': 'Global Carbon Project', 'version': '2022v27', 'type': 'number', 'licence': 'Licensed under Creative Commons Attribution 4.0 International', 'citation': 'Friedlingstein et al 2020 (DOI: 10.5194/essd-12-3269-2020)'}, {'name': 'Oil', 'title': 'Fossil CO2 emissions from Oil', 'units': 'millions of tonnes of CO2', 'source': 'Global Carbon Budget 2022', 'organisation': 'Global Carbon Project', 'version': '2022v27', 'type': 'number', 'licence': 'Licensed under Creative Commons Attribution 4.0 International', 'citation': 'Friedlingstein et al 2020 (DOI: 10.5194/essd-12-3269-2020)'}, {'name': 'Gas', 'title': 'Fossil CO2 emissions from Gas', 'units': 'millions of tonnes of CO2', 'source': 'Global Carbon Budget 2022', 'organisation': 'Global Carbon Project', 'version': '2022v27', 'type': 'number', 'licence': 'Licensed under Creative Commons Attribution 4.0 International', 'citation': 'Friedlingstein et al 2020 (DOI: 10.5194/essd-12-3269-2020)'}, {'name': 'Cement', 'title': 'Fossil CO2 emissions from Cement', 'units': 'millions of tonnes of CO2', 'source': 'Global Carbon Budget 2022', 'organisation': 'Global Carbon Project', 'version': '2022v27', 'type': 'number', 'licence': 'Licensed under Creative Commons Attribution 4.0 International', 'citation': 'Friedlingstein et al 2020 (DOI: 10.5194/essd-12-3269-2020)'}, {'name': 'Flaring', 'title': 'Fossil CO2 emissions from Flaring', 'units': 'millions of tonnes of CO2', 'source': 'Global Carbon Budget 2022', 'organisation': 'Global Carbon Project', 'version': '2022v27', 'type': 'number', 'licence': 'Licensed under Creative Commons Attribution 4.0 International', 'citation': 'Friedlingstein et al 2020 (DOI: 10.5194/essd-12-3269-2020)'}, {'name': 'Other', 'title': 'Fossil CO2 emissions from Other', 'units': 'millions of tonnes of CO2', 'source': 'Global Carbon Budget 2022', 'organisation': 'Global Carbon Project', 'version': '2022v27', 'type': 'number', 'licence': 'Licensed under Creative Commons Attribution 4.0 International', 'citation': 'Friedlingstein et al 2020 (DOI: 10.5194/essd-12-3269-2020)'}, {'name': 'Per Capita', 'title': 'Per capita fossil CO2 emissions', 'units': 'tonnes of CO2 per capita', 'source': 'Global Carbon Budget 2022', 'organisation': 'Global Carbon Project', 'version': '2022v27', 'type': 'number', 'licence': 'Licensed under Creative Commons Attribution 4.0 International', 'citation': 'Friedlingstein et al 2020 (DOI: 10.5194/essd-12-3269-2020)'}]}\n",
      "{'_id': ObjectId('66f0f794f1049cc35ee1f58a'), 'fields': [{'name': 'Country', 'title': 'Country name', 'type': 'string'}, {'name': 'ISO 3166-1 alpha-3', 'title': 'ISO code', 'type': 'string'}, {'name': 'Year', 'title': 'Year', 'note': 'In almost all cases this is calendar year', 'type': 'number'}, {'name': 'Total', 'title': 'Total fossil CO2 emissions', 'units': 'millions of tonnes of CO2', 'source': 'Global Carbon Budget 2022', 'organisation': 'Global Carbon Project', 'version': '2022v27', 'type': 'number', 'licence': 'Licensed under Creative Commons Attribution 4.0 International', 'citation': 'Friedlingstein et al 2020 (DOI: 10.5194/essd-12-3269-2020)'}, {'name': 'Coal', 'title': 'Fossil CO2 emissions from Coal', 'units': 'millions of tonnes of CO2', 'source': 'Global Carbon Budget 2022', 'organisation': 'Global Carbon Project', 'version': '2022v27', 'type': 'number', 'licence': 'Licensed under Creative Commons Attribution 4.0 International', 'citation': 'Friedlingstein et al 2020 (DOI: 10.5194/essd-12-3269-2020)'}, {'name': 'Oil', 'title': 'Fossil CO2 emissions from Oil', 'units': 'millions of tonnes of CO2', 'source': 'Global Carbon Budget 2022', 'organisation': 'Global Carbon Project', 'version': '2022v27', 'type': 'number', 'licence': 'Licensed under Creative Commons Attribution 4.0 International', 'citation': 'Friedlingstein et al 2020 (DOI: 10.5194/essd-12-3269-2020)'}, {'name': 'Gas', 'title': 'Fossil CO2 emissions from Gas', 'units': 'millions of tonnes of CO2', 'source': 'Global Carbon Budget 2022', 'organisation': 'Global Carbon Project', 'version': '2022v27', 'type': 'number', 'licence': 'Licensed under Creative Commons Attribution 4.0 International', 'citation': 'Friedlingstein et al 2020 (DOI: 10.5194/essd-12-3269-2020)'}, {'name': 'Cement', 'title': 'Fossil CO2 emissions from Cement', 'units': 'millions of tonnes of CO2', 'source': 'Global Carbon Budget 2022', 'organisation': 'Global Carbon Project', 'version': '2022v27', 'type': 'number', 'licence': 'Licensed under Creative Commons Attribution 4.0 International', 'citation': 'Friedlingstein et al 2020 (DOI: 10.5194/essd-12-3269-2020)'}, {'name': 'Flaring', 'title': 'Fossil CO2 emissions from Flaring', 'units': 'millions of tonnes of CO2', 'source': 'Global Carbon Budget 2022', 'organisation': 'Global Carbon Project', 'version': '2022v27', 'type': 'number', 'licence': 'Licensed under Creative Commons Attribution 4.0 International', 'citation': 'Friedlingstein et al 2020 (DOI: 10.5194/essd-12-3269-2020)'}, {'name': 'Other', 'title': 'Fossil CO2 emissions from Other', 'units': 'millions of tonnes of CO2', 'source': 'Global Carbon Budget 2022', 'organisation': 'Global Carbon Project', 'version': '2022v27', 'type': 'number', 'licence': 'Licensed under Creative Commons Attribution 4.0 International', 'citation': 'Friedlingstein et al 2020 (DOI: 10.5194/essd-12-3269-2020)'}, {'name': 'Per Capita', 'title': 'Per capita fossil CO2 emissions', 'units': 'tonnes of CO2 per capita', 'source': 'Global Carbon Budget 2022', 'organisation': 'Global Carbon Project', 'version': '2022v27', 'type': 'number', 'licence': 'Licensed under Creative Commons Attribution 4.0 International', 'citation': 'Friedlingstein et al 2020 (DOI: 10.5194/essd-12-3269-2020)'}]}\n",
      "Sample document from MongoDB (file 1): {'_id': ObjectId('66f0f794f1049cc35ee1f58a'), 'fields': [{'name': 'Country', 'title': 'Country name', 'type': 'string'}, {'name': 'ISO 3166-1 alpha-3', 'title': 'ISO code', 'type': 'string'}, {'name': 'Year', 'title': 'Year', 'note': 'In almost all cases this is calendar year', 'type': 'number'}, {'name': 'Total', 'title': 'Total fossil CO2 emissions', 'units': 'millions of tonnes of CO2', 'source': 'Global Carbon Budget 2022', 'organisation': 'Global Carbon Project', 'version': '2022v27', 'type': 'number', 'licence': 'Licensed under Creative Commons Attribution 4.0 International', 'citation': 'Friedlingstein et al 2020 (DOI: 10.5194/essd-12-3269-2020)'}, {'name': 'Coal', 'title': 'Fossil CO2 emissions from Coal', 'units': 'millions of tonnes of CO2', 'source': 'Global Carbon Budget 2022', 'organisation': 'Global Carbon Project', 'version': '2022v27', 'type': 'number', 'licence': 'Licensed under Creative Commons Attribution 4.0 International', 'citation': 'Friedlingstein et al 2020 (DOI: 10.5194/essd-12-3269-2020)'}, {'name': 'Oil', 'title': 'Fossil CO2 emissions from Oil', 'units': 'millions of tonnes of CO2', 'source': 'Global Carbon Budget 2022', 'organisation': 'Global Carbon Project', 'version': '2022v27', 'type': 'number', 'licence': 'Licensed under Creative Commons Attribution 4.0 International', 'citation': 'Friedlingstein et al 2020 (DOI: 10.5194/essd-12-3269-2020)'}, {'name': 'Gas', 'title': 'Fossil CO2 emissions from Gas', 'units': 'millions of tonnes of CO2', 'source': 'Global Carbon Budget 2022', 'organisation': 'Global Carbon Project', 'version': '2022v27', 'type': 'number', 'licence': 'Licensed under Creative Commons Attribution 4.0 International', 'citation': 'Friedlingstein et al 2020 (DOI: 10.5194/essd-12-3269-2020)'}, {'name': 'Cement', 'title': 'Fossil CO2 emissions from Cement', 'units': 'millions of tonnes of CO2', 'source': 'Global Carbon Budget 2022', 'organisation': 'Global Carbon Project', 'version': '2022v27', 'type': 'number', 'licence': 'Licensed under Creative Commons Attribution 4.0 International', 'citation': 'Friedlingstein et al 2020 (DOI: 10.5194/essd-12-3269-2020)'}, {'name': 'Flaring', 'title': 'Fossil CO2 emissions from Flaring', 'units': 'millions of tonnes of CO2', 'source': 'Global Carbon Budget 2022', 'organisation': 'Global Carbon Project', 'version': '2022v27', 'type': 'number', 'licence': 'Licensed under Creative Commons Attribution 4.0 International', 'citation': 'Friedlingstein et al 2020 (DOI: 10.5194/essd-12-3269-2020)'}, {'name': 'Other', 'title': 'Fossil CO2 emissions from Other', 'units': 'millions of tonnes of CO2', 'source': 'Global Carbon Budget 2022', 'organisation': 'Global Carbon Project', 'version': '2022v27', 'type': 'number', 'licence': 'Licensed under Creative Commons Attribution 4.0 International', 'citation': 'Friedlingstein et al 2020 (DOI: 10.5194/essd-12-3269-2020)'}, {'name': 'Per Capita', 'title': 'Per capita fossil CO2 emissions', 'units': 'tonnes of CO2 per capita', 'source': 'Global Carbon Budget 2022', 'organisation': 'Global Carbon Project', 'version': '2022v27', 'type': 'number', 'licence': 'Licensed under Creative Commons Attribution 4.0 International', 'citation': 'Friedlingstein et al 2020 (DOI: 10.5194/essd-12-3269-2020)'}]}\n",
      "Sample document from MongoDB (file 2): {'_id': ObjectId('66f0f98bf1049cc35ee3a5e1'), 'fields': [{'name': 'Country', 'title': 'Country name', 'type': 'string'}, {'name': 'ISO 3166-1 alpha-3', 'title': 'ISO code', 'type': 'string'}, {'name': 'Year', 'title': 'Year', 'note': 'In almost all cases this is calendar year', 'type': 'number'}, {'name': 'Total', 'title': 'Total fossil CO2 emissions', 'units': 'tonnes of CO2 per capita', 'source': 'Global Carbon Budget 2022', 'organisation': 'Global Carbon Project', 'version': '2022v27', 'type': 'number', 'licence': 'Licensed under Creative Commons Attribution 4.0 International', 'citation': 'Friedlingstein et al 2020 (DOI: 10.5194/essd-12-3269-2020)'}, {'name': 'Coal', 'title': 'Fossil CO2 emissions from Coal', 'units': 'tonnes of CO2 per capita', 'source': 'Global Carbon Budget 2022', 'organisation': 'Global Carbon Project', 'version': '2022v27', 'type': 'number', 'licence': 'Licensed under Creative Commons Attribution 4.0 International', 'citation': 'Friedlingstein et al 2020 (DOI: 10.5194/essd-12-3269-2020)'}, {'name': 'Oil', 'title': 'Fossil CO2 emissions from Oil', 'units': 'tonnes of CO2 per capita', 'source': 'Global Carbon Budget 2022', 'organisation': 'Global Carbon Project', 'version': '2022v27', 'type': 'number', 'licence': 'Licensed under Creative Commons Attribution 4.0 International', 'citation': 'Friedlingstein et al 2020 (DOI: 10.5194/essd-12-3269-2020)'}, {'name': 'Gas', 'title': 'Fossil CO2 emissions from Gas', 'units': 'tonnes of CO2 per capita', 'source': 'Global Carbon Budget 2022', 'organisation': 'Global Carbon Project', 'version': '2022v27', 'type': 'number', 'licence': 'Licensed under Creative Commons Attribution 4.0 International', 'citation': 'Friedlingstein et al 2020 (DOI: 10.5194/essd-12-3269-2020)'}, {'name': 'Cement', 'title': 'Fossil CO2 emissions from Cement', 'units': 'tonnes of CO2 per capita', 'source': 'Global Carbon Budget 2022', 'organisation': 'Global Carbon Project', 'version': '2022v27', 'type': 'number', 'licence': 'Licensed under Creative Commons Attribution 4.0 International', 'citation': 'Friedlingstein et al 2020 (DOI: 10.5194/essd-12-3269-2020)'}, {'name': 'Flaring', 'title': 'Fossil CO2 emissions from Flaring', 'units': 'tonnes of CO2 per capita', 'source': 'Global Carbon Budget 2022', 'organisation': 'Global Carbon Project', 'version': '2022v27', 'type': 'number', 'licence': 'Licensed under Creative Commons Attribution 4.0 International', 'citation': 'Friedlingstein et al 2020 (DOI: 10.5194/essd-12-3269-2020)'}, {'name': 'Other', 'title': 'Fossil CO2 emissions from Other', 'units': 'tonnes of CO2 per capita', 'source': 'Global Carbon Budget 2022', 'organisation': 'Global Carbon Project', 'version': '2022v27', 'type': 'number', 'licence': 'Licensed under Creative Commons Attribution 4.0 International', 'citation': 'Friedlingstein et al 2020 (DOI: 10.5194/essd-12-3269-2020)'}]}\n"
     ]
    }
   ],
   "source": [
    "# Access the 'group_5_project' database\n",
    "db = client['group_5_project']\n",
    "\n",
    "# Access a specific collection (replace 'your_collection_name' with the actual name)\n",
    "collection1 = db['GCB2022v27_MtCO2_flat_metadata']\n",
    "collection2 = db['GCB2022v27_percapita_flat_metadata']\n",
    "\n",
    "\n",
    "# # Print all documents from the collection\n",
    "# for document in collection.find():\n",
    "#     print(document)\n",
    "\n",
    "# for document2 in collection.find():\n",
    "#     print(document2)\n",
    "\n",
    "\n",
    "# Fetch the first document from each collection\n",
    "sample_doc1 = collection1.find_one()\n",
    "sample_doc2 = collection2.find_one()\n",
    "\n",
    "print(\"Sample document from MongoDB (file 1):\",sample_doc1)\n",
    "print(\"Sample document from MongoDB (file 2):\",sample_doc2)\n",
    "\n",
    "\n"
   ]
  },
  {
   "cell_type": "code",
   "execution_count": 19,
   "metadata": {},
   "outputs": [
    {
     "name": "stdout",
     "output_type": "stream",
     "text": [
      "1\n",
      "1\n"
     ]
    }
   ],
   "source": [
    "print(collection1.count_documents({}))  # Outputs the number of documents in the collection\n",
    "print(collection2.count_documents({}))"
   ]
  },
  {
   "cell_type": "markdown",
   "metadata": {},
   "source": [
    "- Describe how many collections/how many documents\n",
    "- Describe the schema of the dataset/collection\n",
    "- Print out a sample document\n",
    "- List and briefly describe the most important fields/attributes in the dataset\n",
    "\n",
    "\n",
    "\n",
    "\n",
    "Based on the information provided, here's how you can describe the dataset:\n",
    "\n",
    "### 1. Describe Collections and Documents\n",
    "- **Collections**: There are two collections in the `group_5_project` database:\n",
    "  - `GCB2022v27_MtCO2_flat_metadata`\n",
    "  - `GCB2022v27_percapita_flat_metadata`\n",
    "  \n",
    "- **Documents**: Each collection contains **1 document**. \n",
    "\n",
    "### 2. Describe the Schema of the Dataset/Collection\n",
    "The schema for both collections appears to be similar, based on the sample documents retrieved. Each document has:\n",
    "- An `_id` field (automatically generated by MongoDB).\n",
    "- A `fields` array, which contains metadata about various attributes related to fossil CO2 emissions.\n",
    "\n",
    "Each entry in the `fields` array is an object that describes a specific attribute, including:\n",
    "- **name**: The key name for the field.\n",
    "- **title**: A descriptive title for the field.\n",
    "- **type**: The data type of the field (e.g., string, number).\n",
    "- **units** (where applicable): The units of measurement for the field.\n",
    "- **source**, **organisation**, **version**, **licence**, and **citation**: Additional metadata providing context for the data.\n",
    "\n",
    "### 3. List and Briefly Describe the Most Important Fields/Attributes\n",
    "Here are the most important fields/attributes found in the dataset:\n",
    "\n",
    "- **Country**: \n",
    "  - **Title**: Country name\n",
    "  - **Type**: string\n",
    "  - **Description**: The name of the country for which the data is recorded.\n",
    "\n",
    "- **ISO 3166-1 alpha-3**: \n",
    "  - **Title**: ISO code\n",
    "  - **Type**: string\n",
    "  - **Description**: The three-letter country code defined by ISO.\n",
    "\n",
    "- **Year**: \n",
    "  - **Title**: Year\n",
    "  - **Type**: number\n",
    "  - **Description**: The calendar year for which the emissions data is relevant.\n",
    "\n",
    "- **Total**: \n",
    "  - **Title**: Total fossil CO2 emissions\n",
    "  - **Units**: millions of tonnes of CO2\n",
    "  - **Type**: number\n",
    "  - **Description**: The total amount of fossil CO2 emissions for the specified country and year.\n",
    "\n",
    "- **Coal**: \n",
    "  - **Title**: Fossil CO2 emissions from Coal\n",
    "  - **Units**: millions of tonnes of CO2\n",
    "  - **Type**: number\n",
    "  - **Description**: The amount of CO2 emissions derived from coal.\n",
    "\n",
    "- **Oil**: \n",
    "  - **Title**: Fossil CO2 emissions from Oil\n",
    "  - **Units**: millions of tonnes of CO2\n",
    "  - **Type**: number\n",
    "  - **Description**: The amount of CO2 emissions derived from oil.\n",
    "\n",
    "- **Gas**: \n",
    "  - **Title**: Fossil CO2 emissions from Gas\n",
    "  - **Units**: millions of tonnes of CO2\n",
    "  - **Type**: number\n",
    "  - **Description**: The amount of CO2 emissions derived from natural gas.\n",
    "\n",
    "- **Cement**: \n",
    "  - **Title**: Fossil CO2 emissions from Cement\n",
    "  - **Units**: millions of tonnes of CO2\n",
    "  - **Type**: number\n",
    "  - **Description**: The amount of CO2 emissions derived from cement production.\n",
    "\n",
    "- **Flaring**: \n",
    "  - **Title**: Fossil CO2 emissions from Flaring\n",
    "  - **Units**: millions of tonnes of CO2\n",
    "  - **Type**: number\n",
    "  - **Description**: The amount of CO2 emissions resulting from flaring practices.\n",
    "\n",
    "- **Other**: \n",
    "  - **Title**: Fossil CO2 emissions from Other sources\n",
    "  - **Units**: millions of tonnes of CO2\n",
    "  - **Type**: number\n",
    "  - **Description**: CO2 emissions that cannot be categorized into the other specified sources.\n",
    "\n",
    "- **Per Capita**: \n",
    "  - **Title**: Per capita fossil CO2 emissions\n",
    "  - **Units**: tonnes of CO2 per capita\n",
    "  - **Type**: number\n",
    "  - **Description**: The average CO2 emissions per person in the specified country for the given year.\n",
    "\n"
   ]
  },
  {
   "cell_type": "code",
   "execution_count": 22,
   "metadata": {},
   "outputs": [
    {
     "name": "stdout",
     "output_type": "stream",
     "text": [
      "--- Exploring collection: GCB2022v27_MtCO2_flat_metadata ---\n",
      "Sample document:\n"
     ]
    },
    {
     "ename": "NameError",
     "evalue": "name 'pprint' is not defined",
     "output_type": "error",
     "traceback": [
      "\u001b[1;31m---------------------------------------------------------------------------\u001b[0m",
      "\u001b[1;31mNameError\u001b[0m                                 Traceback (most recent call last)",
      "Cell \u001b[1;32mIn[22], line 19\u001b[0m\n\u001b[0;32m     16\u001b[0m             \u001b[38;5;28mprint\u001b[39m(\u001b[38;5;124mf\u001b[39m\u001b[38;5;124m\"\u001b[39m\u001b[38;5;124m- \u001b[39m\u001b[38;5;132;01m{\u001b[39;00mkey\u001b[38;5;132;01m}\u001b[39;00m\u001b[38;5;124m\"\u001b[39m)\n\u001b[0;32m     18\u001b[0m \u001b[38;5;66;03m# Explore the MtCO2 collection\u001b[39;00m\n\u001b[1;32m---> 19\u001b[0m \u001b[43mexplore_collection\u001b[49m\u001b[43m(\u001b[49m\u001b[43mcollection1\u001b[49m\u001b[43m,\u001b[49m\u001b[43m \u001b[49m\u001b[38;5;124;43m'\u001b[39;49m\u001b[38;5;124;43mGCB2022v27_MtCO2_flat_metadata\u001b[39;49m\u001b[38;5;124;43m'\u001b[39;49m\u001b[43m)\u001b[49m\n\u001b[0;32m     21\u001b[0m \u001b[38;5;66;03m# Explore the per capita collection\u001b[39;00m\n\u001b[0;32m     22\u001b[0m explore_collection(collection2, \u001b[38;5;124m'\u001b[39m\u001b[38;5;124mGCB2022v27_percapita_flat_metadata\u001b[39m\u001b[38;5;124m'\u001b[39m)\n",
      "Cell \u001b[1;32mIn[22], line 10\u001b[0m, in \u001b[0;36mexplore_collection\u001b[1;34m(collection, collection_name)\u001b[0m\n\u001b[0;32m      8\u001b[0m sample_document \u001b[38;5;241m=\u001b[39m collection\u001b[38;5;241m.\u001b[39mfind_one()\n\u001b[0;32m      9\u001b[0m \u001b[38;5;28mprint\u001b[39m(\u001b[38;5;124m\"\u001b[39m\u001b[38;5;124mSample document:\u001b[39m\u001b[38;5;124m\"\u001b[39m)\n\u001b[1;32m---> 10\u001b[0m \u001b[43mpprint\u001b[49m\u001b[38;5;241m.\u001b[39mpprint(sample_document)\n\u001b[0;32m     12\u001b[0m \u001b[38;5;66;03m# Get the keys (important features) of the document\u001b[39;00m\n\u001b[0;32m     13\u001b[0m \u001b[38;5;28;01mif\u001b[39;00m sample_document:\n",
      "\u001b[1;31mNameError\u001b[0m: name 'pprint' is not defined"
     ]
    }
   ],
   "source": [
    "# YOUR CODE TO EXPLORE THE DATA HERE\n",
    "\n"
   ]
  },
  {
   "cell_type": "markdown",
   "metadata": {},
   "source": [
    "## Submission instruction\n",
    "- Push the notebook to your group Github repository\n",
    "- Upload an URL to the `data-eda.ipynb` to Moodle under week 3 assignment"
   ]
  }
 ],
 "metadata": {
  "kernelspec": {
   "display_name": "adsc_3610",
   "language": "python",
   "name": "python3"
  },
  "language_info": {
   "codemirror_mode": {
    "name": "ipython",
    "version": 3
   },
   "file_extension": ".py",
   "mimetype": "text/x-python",
   "name": "python",
   "nbconvert_exporter": "python",
   "pygments_lexer": "ipython3",
   "version": "3.11.0"
  }
 },
 "nbformat": 4,
 "nbformat_minor": 2
}
