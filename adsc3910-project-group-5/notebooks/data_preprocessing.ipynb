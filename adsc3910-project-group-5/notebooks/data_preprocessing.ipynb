{
 "cells": [
  {
   "cell_type": "code",
   "execution_count": 0,
   "metadata": {
    "application/vnd.databricks.v1+cell": {
     "cellMetadata": {
      "byteLimit": 2048000,
      "rowLimit": 10000
     },
     "inputWidgets": {},
     "nuid": "8712cedf-5d8c-4baa-ac22-a1556a2a2740",
     "showTitle": false,
     "title": ""
    }
   },
   "outputs": [],
   "source": [
    "username = \"alextran21211\"\n",
    "password = \"database12345\"\n",
    "host = \"cluster0.zsych.mongodb.net\"\n",
    "database = \"group_5_project\"\n",
    "collection = \"co2_emission\"\n"
   ]
  },
  {
   "cell_type": "code",
   "execution_count": 0,
   "metadata": {
    "application/vnd.databricks.v1+cell": {
     "cellMetadata": {
      "byteLimit": 2048000,
      "rowLimit": 10000
     },
     "inputWidgets": {},
     "nuid": "44f9730d-ea11-45a2-ad81-6e687eecae77",
     "showTitle": false,
     "title": ""
    }
   },
   "outputs": [],
   "source": [
    "from pymongo import MongoClient # import mongo client to connect\n",
    "import urllib.parse"
   ]
  },
  {
   "cell_type": "code",
   "execution_count": 0,
   "metadata": {
    "application/vnd.databricks.v1+cell": {
     "cellMetadata": {
      "byteLimit": 2048000,
      "rowLimit": 10000
     },
     "inputWidgets": {},
     "nuid": "7eb663ed-96cf-439f-9fb5-b02c50e70c2a",
     "showTitle": false,
     "title": ""
    }
   },
   "outputs": [],
   "source": [
    "username = username\n",
    "password = urllib.parse.quote(password)\n",
    "host = host\n",
    "url = \"mongodb+srv://{}:{}@{}/?retryWrites=true&w=majority\".format(username,\n",
    "password, host)\n",
    "# connect to the database\n",
    "client = MongoClient(url)"
   ]
  },
  {
   "cell_type": "code",
   "execution_count": 0,
   "metadata": {
    "application/vnd.databricks.v1+cell": {
     "cellMetadata": {
      "byteLimit": 2048000,
      "rowLimit": 10000
     },
     "inputWidgets": {},
     "nuid": "5a144a77-b600-47ce-8720-70a75940d3e5",
     "showTitle": false,
     "title": ""
    }
   },
   "outputs": [
    {
     "output_type": "stream",
     "name": "stdout",
     "output_type": "stream",
     "text": [
      "Country: {country},ISO Code: {iso_code},Year: {ye ar}, Population: {population}, CO2: {co2}\nCountry: {country},ISO Code: {iso_code},Year: {ye ar}, Population: {population}, CO2: {co2}\nCountry: {country},ISO Code: {iso_code},Year: {ye ar}, Population: {population}, CO2: {co2}\nCountry: {country},ISO Code: {iso_code},Year: {ye ar}, Population: {population}, CO2: {co2}\nCountry: {country},ISO Code: {iso_code},Year: {ye ar}, Population: {population}, CO2: {co2}\nCountry: {country},ISO Code: {iso_code},Year: {ye ar}, Population: {population}, CO2: {co2}\nCountry: {country},ISO Code: {iso_code},Year: {ye ar}, Population: {population}, CO2: {co2}\nCountry: {country},ISO Code: {iso_code},Year: {ye ar}, Population: {population}, CO2: {co2}\nCountry: {country},ISO Code: {iso_code},Year: {ye ar}, Population: {population}, CO2: {co2}\nCountry: {country},ISO Code: {iso_code},Year: {ye ar}, Population: {population}, CO2: {co2}\nCountry: {country},ISO Code: {iso_code},Year: {ye ar}, Population: {population}, CO2: {co2}\nCountry: {country},ISO Code: {iso_code},Year: {ye ar}, Population: {population}, CO2: {co2}\nCountry: {country},ISO Code: {iso_code},Year: {ye ar}, Population: {population}, CO2: {co2}\nCountry: {country},ISO Code: {iso_code},Year: {ye ar}, Population: {population}, CO2: {co2}\nCountry: {country},ISO Code: {iso_code},Year: {ye ar}, Population: {population}, CO2: {co2}\nCountry: {country},ISO Code: {iso_code},Year: {ye ar}, Population: {population}, CO2: {co2}\nCountry: {country},ISO Code: {iso_code},Year: {ye ar}, Population: {population}, CO2: {co2}\nCountry: {country},ISO Code: {iso_code},Year: {ye ar}, Population: {population}, CO2: {co2}\nCountry: {country},ISO Code: {iso_code},Year: {ye ar}, Population: {population}, CO2: {co2}\nCountry: {country},ISO Code: {iso_code},Year: {ye ar}, Population: {population}, CO2: {co2}\nCountry: {country},ISO Code: {iso_code},Year: {ye ar}, Population: {population}, CO2: {co2}\nCountry: {country},ISO Code: {iso_code},Year: {ye ar}, Population: {population}, CO2: {co2}\nCountry: {country},ISO Code: {iso_code},Year: {ye ar}, Population: {population}, CO2: {co2}\nCountry: {country},ISO Code: {iso_code},Year: {ye ar}, Population: {population}, CO2: {co2}\nCountry: {country},ISO Code: {iso_code},Year: {ye ar}, Population: {population}, CO2: {co2}\nCountry: {country},ISO Code: {iso_code},Year: {ye ar}, Population: {population}, CO2: {co2}\n"
     ]
    }
   ],
   "source": [
    "# Access the 'group_5_project' database\n",
    "db = client['group_5_project']\n",
    "\n",
    "collection = db[\"co2_emission\"]\n",
    "\n",
    "documents = collection.find().limit(1)\n",
    "\n",
    "for doc in documents:\n",
    "    for country, country_data in doc.items():\n",
    "        if country == \"_id\":\n",
    "            continue\n",
    "        iso_code = country_data.get('iso_code')\n",
    "        for entry in country_data.get('data',[])[:1]:\n",
    "            year = entry.get('year')\n",
    "            population = entry.get('population')\n",
    "            co2 = entry.get('cumulative_luc_co2')\n",
    "            print(\"Country: {country},ISO Code: {iso_code},Year: {ye ar}, Population: {population}, CO2: {co2}\")"
   ]
  },
  {
   "cell_type": "code",
   "execution_count": 0,
   "metadata": {
    "application/vnd.databricks.v1+cell": {
     "cellMetadata": {},
     "inputWidgets": {},
     "nuid": "3f5d85a1-e859-4c54-ae9c-d127c1cf424b",
     "showTitle": false,
     "title": ""
    }
   },
   "outputs": [],
   "source": []
  }
 ],
 "metadata": {
  "application/vnd.databricks.v1+notebook": {
   "dashboards": [],
   "environmentMetadata": null,
   "language": "python",
   "notebookMetadata": {
    "pythonIndentUnit": 4
   },
   "notebookName": "data_preprocessing",
   "widgets": {}
  }
 },
 "nbformat": 4,
 "nbformat_minor": 0
}
