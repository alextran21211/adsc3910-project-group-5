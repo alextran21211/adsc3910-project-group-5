{
 "cells": [
  {
   "cell_type": "code",
   "execution_count": 2,
   "metadata": {
    "application/vnd.databricks.v1+cell": {
     "cellMetadata": {
      "byteLimit": 2048000,
      "rowLimit": 10000
     },
     "inputWidgets": {},
     "nuid": "8712cedf-5d8c-4baa-ac22-a1556a2a2740",
     "showTitle": false,
     "title": ""
    }
   },
   "outputs": [],
   "source": [
    "username = \"alextran21211\"\n",
    "password = \"database12345\"\n",
    "host = \"cluster0.zsych.mongodb.net\"\n",
    "database = \"group_5_project\"\n",
    "collection = \"co2_emission\"\n"
   ]
  },
  {
   "cell_type": "code",
   "execution_count": 3,
   "metadata": {
    "application/vnd.databricks.v1+cell": {
     "cellMetadata": {
      "byteLimit": 2048000,
      "rowLimit": 10000
     },
     "inputWidgets": {},
     "nuid": "44f9730d-ea11-45a2-ad81-6e687eecae77",
     "showTitle": false,
     "title": ""
    }
   },
   "outputs": [],
   "source": [
    "from pymongo import MongoClient # import mongo client to connect\n",
    "import pandas as pd\n",
    "from pyspark.sql import SparkSession\n",
    "from pyspark.sql.functions import col, count, isnan, mean, stddev, min, max, desc\n",
    "from pyspark.sql.types import StructType, StructField, StringType, IntegerType, FloatType\n",
    "import urllib.parse\n",
    "from sklearn.preprocessing import MinMaxScaler"
   ]
  },
  {
   "cell_type": "code",
   "execution_count": 4,
   "metadata": {
    "application/vnd.databricks.v1+cell": {
     "cellMetadata": {
      "byteLimit": 2048000,
      "rowLimit": 10000
     },
     "inputWidgets": {},
     "nuid": "7eb663ed-96cf-439f-9fb5-b02c50e70c2a",
     "showTitle": false,
     "title": ""
    }
   },
   "outputs": [],
   "source": [
    "username = username\n",
    "password = urllib.parse.quote(password)\n",
    "host = host\n",
    "url = \"mongodb+srv://{}:{}@{}/?retryWrites=true&w=majority\".format(username,\n",
    "password, host)\n",
    "# connect to the database\n",
    "client = MongoClient(url)"
   ]
  },
  {
   "cell_type": "code",
   "execution_count": 5,
   "metadata": {},
   "outputs": [],
   "source": [
    "# retrive more features for analyzing\n",
    "db = client['group_5_project']\n",
    "collection = db[\"co2_emission\"]\n",
    "\n",
    "documents = collection.find()\n",
    "\n",
    "data = []\n",
    "\n",
    "for doc in documents:\n",
    "    for country, country_data in doc.items():\n",
    "        if country == \"_id\":\n",
    "            continue\n",
    "        iso_code = country_data.get('iso_code')\n",
    "        for entry in country_data.get('data', []):\n",
    "            year = entry.get('year')\n",
    "            population = entry.get('population')\n",
    "            co2 = entry.get('cumulative_luc_co2')\n",
    "            coal_co2 = entry.get('coal_co2')\n",
    "            oil_co2 = entry.get('oil_co2')\n",
    "            gas_co2 = entry.get('gas_co2')\n",
    "            cement_co2 = entry.get('cement_co2')\n",
    "            flaring_co2 = entry.get('flaring_co2')\n",
    "            other_industry_co2 = entry.get('other_industry_co2')\n",
    "            \n",
    "            data.append({\n",
    "                'Country': country,\n",
    "                'ISO_Code': iso_code,\n",
    "                'Year': year,\n",
    "                'Population': population,\n",
    "                'CO2': co2,\n",
    "                'Coal_CO2': coal_co2,\n",
    "                'Oil_CO2': oil_co2,\n",
    "                'Gas_CO2': gas_co2,\n",
    "                'Cement_CO2': cement_co2,\n",
    "                'Flaring_CO2': flaring_co2,\n",
    "                'Other_Industry_CO2': other_industry_co2\n",
    "            })\n",
    "\n",
    "df = pd.DataFrame(data)\n"
   ]
  },
  {
   "cell_type": "code",
   "execution_count": 6,
   "metadata": {
    "application/vnd.databricks.v1+cell": {
     "cellMetadata": {
      "byteLimit": 2048000,
      "rowLimit": 10000
     },
     "inputWidgets": {},
     "nuid": "5070f34c-4439-4d3e-a05f-16b0226c1e91",
     "showTitle": false,
     "title": ""
    }
   },
   "outputs": [
    {
     "name": "stdout",
     "output_type": "stream",
     "text": [
      "       Country ISO_Code  Year  Population        CO2  Coal_CO2  Oil_CO2  \\\n",
      "0  Afghanistan      AFG  1850   3752993.0   2.979601       NaN      NaN   \n",
      "1  Afghanistan      AFG  1851   3767956.0   5.981443       NaN      NaN   \n",
      "2  Afghanistan      AFG  1852   3783940.0   9.002998       NaN      NaN   \n",
      "3  Afghanistan      AFG  1853   3800954.0  12.041333       NaN      NaN   \n",
      "4  Afghanistan      AFG  1854   3818038.0  15.094068       NaN      NaN   \n",
      "\n",
      "   Gas_CO2  Cement_CO2  Flaring_CO2  Other_Industry_CO2  \n",
      "0      NaN         NaN          NaN                 NaN  \n",
      "1      NaN         NaN          NaN                 NaN  \n",
      "2      NaN         NaN          NaN                 NaN  \n",
      "3      NaN         NaN          NaN                 NaN  \n",
      "4      NaN         NaN          NaN                 NaN  \n"
     ]
    }
   ],
   "source": [
    "print(df.head())"
   ]
  },
  {
   "cell_type": "code",
   "execution_count": 7,
   "metadata": {},
   "outputs": [
    {
     "name": "stdout",
     "output_type": "stream",
     "text": [
      "        Country ISO_Code  Year  Population          CO2  Coal_CO2   Oil_CO2  \\\n",
      "47410  Zimbabwe      ZWE  2018  15052191.0  2269.845703  6.096896  4.059712   \n",
      "47411  Zimbabwe      ZWE  2019  15354606.0  2277.924316  5.571349  3.731338   \n",
      "47412  Zimbabwe      ZWE  2020  15669663.0  2285.533447  4.308864  3.044784   \n",
      "47413  Zimbabwe      ZWE  2021  15993525.0  2292.650146  4.548245  3.317047   \n",
      "47414  Zimbabwe      ZWE  2022  16320539.0  2299.374268  5.027008  3.298107   \n",
      "\n",
      "       Gas_CO2  Cement_CO2  Flaring_CO2  Other_Industry_CO2  \n",
      "47410      0.0    0.557990          0.0                 NaN  \n",
      "47411      0.0    0.472742          0.0                 NaN  \n",
      "47412      0.0    0.495991          0.0                 NaN  \n",
      "47413      0.0    0.530865          0.0                 NaN  \n",
      "47414      0.0    0.530865          0.0                 NaN  \n"
     ]
    }
   ],
   "source": [
    "print(df.tail())"
   ]
  },
  {
   "cell_type": "code",
   "execution_count": 8,
   "metadata": {
    "application/vnd.databricks.v1+cell": {
     "cellMetadata": {
      "byteLimit": 2048000,
      "rowLimit": 10000
     },
     "inputWidgets": {},
     "nuid": "7a7bc157-668e-4ad7-8167-74dddc98856b",
     "showTitle": false,
     "title": ""
    }
   },
   "outputs": [
    {
     "name": "stdout",
     "output_type": "stream",
     "text": [
      "<class 'pandas.core.frame.DataFrame'>\n",
      "RangeIndex: 47415 entries, 0 to 47414\n",
      "Data columns (total 11 columns):\n",
      " #   Column              Non-Null Count  Dtype  \n",
      "---  ------              --------------  -----  \n",
      " 0   Country             47415 non-null  object \n",
      " 1   ISO_Code            39548 non-null  object \n",
      " 2   Year                47415 non-null  int64  \n",
      " 3   Population          39414 non-null  float64\n",
      " 4   CO2                 37022 non-null  float64\n",
      " 5   Coal_CO2            25075 non-null  float64\n",
      " 6   Oil_CO2             25111 non-null  float64\n",
      " 7   Gas_CO2             25083 non-null  float64\n",
      " 8   Cement_CO2          23764 non-null  float64\n",
      " 9   Flaring_CO2         24992 non-null  float64\n",
      " 10  Other_Industry_CO2  2593 non-null   float64\n",
      "dtypes: float64(8), int64(1), object(2)\n",
      "memory usage: 4.0+ MB\n",
      "None\n"
     ]
    }
   ],
   "source": [
    "print(df.info())  "
   ]
  },
  {
   "cell_type": "code",
   "execution_count": 9,
   "metadata": {
    "application/vnd.databricks.v1+cell": {
     "cellMetadata": {
      "byteLimit": 2048000,
      "rowLimit": 10000
     },
     "inputWidgets": {},
     "nuid": "fae78f12-e96c-4be2-a380-03f5ee161449",
     "showTitle": false,
     "title": ""
    }
   },
   "outputs": [
    {
     "name": "stdout",
     "output_type": "stream",
     "text": [
      "Country                   0\n",
      "ISO_Code               7867\n",
      "Year                      0\n",
      "Population             8001\n",
      "CO2                   10393\n",
      "Coal_CO2              22340\n",
      "Oil_CO2               22304\n",
      "Gas_CO2               22332\n",
      "Cement_CO2            23651\n",
      "Flaring_CO2           22423\n",
      "Other_Industry_CO2    44822\n",
      "dtype: int64\n"
     ]
    }
   ],
   "source": [
    "print(df.isnull().sum()) "
   ]
  },
  {
   "cell_type": "code",
   "execution_count": 10,
   "metadata": {
    "application/vnd.databricks.v1+cell": {
     "cellMetadata": {
      "byteLimit": 2048000,
      "rowLimit": 10000
     },
     "inputWidgets": {},
     "nuid": "f27fcbfe-9fe1-4239-a2e2-80f9f0cc7e4f",
     "showTitle": false,
     "title": ""
    }
   },
   "outputs": [],
   "source": [
    "df['Population'] = df['Population'].fillna(df['Population'].mean()) \n",
    "df['CO2'] = df['CO2'].fillna(df['CO2'].mean())  \n",
    "df['ISO_Code'] = df['ISO_Code'].dropna"
   ]
  },
  {
   "cell_type": "code",
   "execution_count": 11,
   "metadata": {
    "application/vnd.databricks.v1+cell": {
     "cellMetadata": {
      "byteLimit": 2048000,
      "rowLimit": 10000
     },
     "inputWidgets": {},
     "nuid": "a48e0675-203a-48ce-86ea-8abd0697bf93",
     "showTitle": false,
     "title": ""
    }
   },
   "outputs": [],
   "source": [
    "df['CO2_per_capita'] = df['CO2'] / df['Population']"
   ]
  },
  {
   "cell_type": "code",
   "execution_count": 12,
   "metadata": {
    "application/vnd.databricks.v1+cell": {
     "cellMetadata": {
      "byteLimit": 2048000,
      "rowLimit": 10000
     },
     "inputWidgets": {},
     "nuid": "ec520277-bd1e-4727-8d0f-d1fea39cf8e0",
     "showTitle": false,
     "title": ""
    }
   },
   "outputs": [],
   "source": [
    "df.drop_duplicates(inplace=True)"
   ]
  },
  {
   "cell_type": "code",
   "execution_count": 13,
   "metadata": {
    "application/vnd.databricks.v1+cell": {
     "cellMetadata": {
      "byteLimit": 2048000,
      "rowLimit": 10000
     },
     "inputWidgets": {},
     "nuid": "53f39dcc-aa76-4001-89b8-31d09492e09f",
     "showTitle": false,
     "title": ""
    }
   },
   "outputs": [
    {
     "name": "stdout",
     "output_type": "stream",
     "text": [
      "Country                   0\n",
      "ISO_Code                  0\n",
      "Year                      0\n",
      "Population                0\n",
      "CO2                       0\n",
      "Coal_CO2              22340\n",
      "Oil_CO2               22304\n",
      "Gas_CO2               22332\n",
      "Cement_CO2            23651\n",
      "Flaring_CO2           22423\n",
      "Other_Industry_CO2    44822\n",
      "CO2_per_capita            0\n",
      "dtype: int64\n"
     ]
    }
   ],
   "source": [
    "print(df.isnull().sum()) "
   ]
  },
  {
   "cell_type": "code",
   "execution_count": 14,
   "metadata": {
    "application/vnd.databricks.v1+cell": {
     "cellMetadata": {
      "byteLimit": 2048000,
      "rowLimit": 10000
     },
     "inputWidgets": {},
     "nuid": "ae1d1eaa-c583-4c63-8396-a2ec57827f03",
     "showTitle": false,
     "title": ""
    }
   },
   "outputs": [
    {
     "name": "stdout",
     "output_type": "stream",
     "text": [
      "       Country  Year  Population        CO2  Coal_CO2  Oil_CO2  Gas_CO2  \\\n",
      "0  Afghanistan  1850   3752993.0   2.979601       NaN      NaN      NaN   \n",
      "1  Afghanistan  1851   3767956.0   5.981443       NaN      NaN      NaN   \n",
      "2  Afghanistan  1852   3783940.0   9.002998       NaN      NaN      NaN   \n",
      "3  Afghanistan  1853   3800954.0  12.041333       NaN      NaN      NaN   \n",
      "4  Afghanistan  1854   3818038.0  15.094068       NaN      NaN      NaN   \n",
      "\n",
      "   Cement_CO2  Flaring_CO2  Other_Industry_CO2  CO2_per_capita  \n",
      "0         NaN          NaN                 NaN    7.939267e-07  \n",
      "1         NaN          NaN                 NaN    1.587450e-06  \n",
      "2         NaN          NaN                 NaN    2.379266e-06  \n",
      "3         NaN          NaN                 NaN    3.167977e-06  \n",
      "4         NaN          NaN                 NaN    3.953357e-06  \n"
     ]
    }
   ],
   "source": [
    "df = df.drop(columns=['ISO_Code'])\n",
    "print(df.head())"
   ]
  },
  {
   "cell_type": "code",
   "execution_count": 15,
   "metadata": {
    "application/vnd.databricks.v1+cell": {
     "cellMetadata": {
      "byteLimit": 2048000,
      "rowLimit": 10000
     },
     "inputWidgets": {},
     "nuid": "4028b3f0-aeb8-4615-a1e6-f9e57e70b5d9",
     "showTitle": false,
     "title": ""
    }
   },
   "outputs": [],
   "source": [
    "scaler = MinMaxScaler()\n",
    "df[['Population', 'CO2', 'CO2_per_capita']] = scaler.fit_transform(df[['Population', 'CO2', 'CO2_per_capita']])"
   ]
  },
  {
   "cell_type": "code",
   "execution_count": 16,
   "metadata": {
    "application/vnd.databricks.v1+cell": {
     "cellMetadata": {
      "byteLimit": 2048000,
      "rowLimit": 10000
     },
     "inputWidgets": {},
     "nuid": "48e7607b-ac22-4302-ae9a-46f84edaa6d5",
     "showTitle": false,
     "title": ""
    }
   },
   "outputs": [
    {
     "name": "stdout",
     "output_type": "stream",
     "text": [
      "               Year    Population           CO2      Coal_CO2       Oil_CO2  \\\n",
      "count  47415.000000  47415.000000  47415.000000  25075.000000  25111.000000   \n",
      "mean    1926.781609      0.007643      0.017994    156.963928    112.920677   \n",
      "std       59.561600      0.037602      0.048560    767.115976    630.125684   \n",
      "min     1750.000000      0.000000      0.000000      0.000000      0.000000   \n",
      "25%     1883.000000      0.000073      0.005530      0.000000      0.084272   \n",
      "50%     1930.000000      0.000521      0.006442      0.703386      1.322799   \n",
      "75%     1976.000000      0.007104      0.017994     16.962487     13.868931   \n",
      "max     2022.000000      1.000000      1.000000  15219.303711  12377.949219   \n",
      "\n",
      "            Gas_CO2    Cement_CO2   Flaring_CO2  Other_Industry_CO2  \\\n",
      "count  25083.000000  23764.000000  24992.000000         2593.000000   \n",
      "mean      51.278100      9.109399      3.636449           17.499371   \n",
      "std      316.287376     66.662220     20.916841           41.335942   \n",
      "min        0.000000      0.000000      0.000000            0.000000   \n",
      "25%        0.000000      0.000000      0.000000            0.608474   \n",
      "50%        0.000000      0.029036      0.000000            2.849703   \n",
      "75%        1.329259      0.834048      0.000000           10.562400   \n",
      "max     7922.111816   1692.403809    435.427490          305.386749   \n",
      "\n",
      "       CO2_per_capita  \n",
      "count    47415.000000  \n",
      "mean         0.000938  \n",
      "std          0.012920  \n",
      "min          0.000000  \n",
      "25%          0.000006  \n",
      "50%          0.000009  \n",
      "75%          0.000012  \n",
      "max          1.000000  \n",
      "       Country  Year  Population       CO2  Coal_CO2  Oil_CO2  Gas_CO2  \\\n",
      "0  Afghanistan  1850    0.000471  0.005472       NaN      NaN      NaN   \n",
      "1  Afghanistan  1851    0.000472  0.005476       NaN      NaN      NaN   \n",
      "2  Afghanistan  1852    0.000474  0.005480       NaN      NaN      NaN   \n",
      "3  Afghanistan  1853    0.000477  0.005483       NaN      NaN      NaN   \n",
      "4  Afghanistan  1854    0.000479  0.005487       NaN      NaN      NaN   \n",
      "\n",
      "   Cement_CO2  Flaring_CO2  Other_Industry_CO2  CO2_per_capita  \n",
      "0         NaN          NaN                 NaN        0.000006  \n",
      "1         NaN          NaN                 NaN        0.000006  \n",
      "2         NaN          NaN                 NaN        0.000006  \n",
      "3         NaN          NaN                 NaN        0.000006  \n",
      "4         NaN          NaN                 NaN        0.000006  \n"
     ]
    }
   ],
   "source": [
    "print(df.describe())        # Summary statistics\n",
    "print(df.head())"
   ]
  },
  {
   "cell_type": "code",
   "execution_count": 17,
   "metadata": {},
   "outputs": [],
   "source": [
    "# Example list of countries (you can expand this list as needed)\n",
    "countries_list = [\n",
    "    'Afghanistan', 'Albania', 'Algeria', 'Andorra', 'Angola', 'Anguilla', 'Antarctica', \n",
    "    'Antigua and Barbuda', 'Argentina', 'Armenia', 'Aruba', 'Australia', 'Austria', \n",
    "    'Azerbaijan', 'Bahamas', 'Bahrain', 'Bangladesh', 'Barbados', 'Belarus', 'Belgium', \n",
    "    'Belize', 'Benin', 'Bermuda', 'Bhutan', 'Bolivia', 'Bonaire Sint Eustatius and Saba', \n",
    "    'Bosnia and Herzegovina', 'Botswana', 'Brazil', 'British Virgin Islands', 'Brunei', \n",
    "    'Bulgaria', 'Burkina Faso', 'Burundi', 'Cambodia', 'Cameroon', 'Canada', 'Cape Verde', \n",
    "    'Central African Republic', 'Chad', 'Chile', 'China', 'Christmas Island', 'Colombia', \n",
    "    'Comoros', 'Congo', 'Cook Islands', 'Costa Rica', \"Cote d'Ivoire\", 'Croatia', 'Cuba', \n",
    "    'Curacao', 'Cyprus', 'Czechia', 'Denmark', 'Djibouti', 'Dominica', 'Dominican Republic', \n",
    "    'Ecuador', 'Egypt', 'El Salvador', 'Equatorial Guinea', 'Eritrea', 'Estonia', 'Eswatini', \n",
    "    'Ethiopia', 'Finland', 'France', 'Gabon', 'Gambia', 'Georgia', 'Germany', 'Ghana', 'Greece', \n",
    "    'Grenada', 'Guatemala', 'Guinea', 'Guinea-Bissau', 'Guyana', 'Haiti', 'Honduras', 'Hong Kong', \n",
    "    'Hungary', 'Iceland', 'India', 'Indonesia', 'Iran', 'Iraq', 'Ireland', 'Israel', 'Italy', \n",
    "    'Jamaica', 'Japan', 'Jordan', 'Kazakhstan', 'Kenya', 'Kiribati', 'Kosovo', 'Kuwait', \n",
    "    'Kyrgyzstan', 'Laos', 'Latvia', 'Lebanon', 'Lesotho', 'Liberia', 'Libya', 'Liechtenstein', \n",
    "    'Lithuania', 'Luxembourg', 'Madagascar', 'Malawi', 'Malaysia', 'Maldives', 'Mali', 'Malta', \n",
    "    'Mauritania', 'Mauritius', 'Mexico', 'Mongolia', 'Montenegro', 'Morocco', 'Mozambique', \n",
    "    'Myanmar', 'Namibia', 'Nauru', 'Nepal', 'Netherlands', 'New Zealand', 'Nicaragua', 'Niger', \n",
    "    'Nigeria', 'Norway', 'Oman', 'Pakistan', 'Palau', 'Panama', 'Papua New Guinea', 'Paraguay', \n",
    "    'Peru', 'Philippines', 'Poland', 'Portugal', 'Qatar', 'Romania', 'Russia', 'Rwanda', 'Saint Lucia', \n",
    "    'Saint Vincent and the Grenadines', 'Samoa', 'San Marino', 'Sao Tome and Principe', 'Saudi Arabia', \n",
    "    'Senegal', 'Serbia', 'Seychelles', 'Singapore', 'Slovakia', 'Slovenia', 'Solomon Islands', \n",
    "    'Somalia', 'South Africa', 'South Korea', 'Spain', 'Sri Lanka', 'Sudan', 'Suriname', 'Sweden', \n",
    "    'Switzerland', 'Syria', 'Taiwan', 'Tajikistan', 'Tanzania', 'Thailand', 'Togo', 'Trinidad and Tobago', \n",
    "    'Tunisia', 'Turkey', 'Turkmenistan', 'Uganda', 'Ukraine', 'United Arab Emirates', 'United Kingdom', \n",
    "    'United States', 'Uruguay', 'Uzbekistan', 'Vanuatu', 'Vatican', 'Venezuela', 'Vietnam', 'Yemen', \n",
    "    'Zambia', 'Zimbabwe'\n",
    "]\n",
    "\n",
    "# Filter the DataFrame to keep only rows with countries in the countries_list \n",
    "df = df[(df['Country'].isin(countries_list)) & (df['Year'] > 1950)]\n",
    "\n",
    "\n"
   ]
  },
  {
   "cell_type": "code",
   "execution_count": 18,
   "metadata": {
    "application/vnd.databricks.v1+cell": {
     "cellMetadata": {
      "byteLimit": 2048000,
      "rowLimit": 10000
     },
     "inputWidgets": {},
     "nuid": "4d911adb-b099-4003-bb7c-28f5b16c0d99",
     "showTitle": false,
     "title": ""
    }
   },
   "outputs": [],
   "source": [
    "df.to_csv(\"../data/processed/co2_emission_preprocessed.csv\", index=False)\n"
   ]
  },
  {
   "cell_type": "code",
   "execution_count": 19,
   "metadata": {
    "application/vnd.databricks.v1+cell": {
     "cellMetadata": {},
     "inputWidgets": {},
     "nuid": "5881789a-5cc8-403a-8533-d2ec066c18e7",
     "showTitle": false,
     "title": ""
    }
   },
   "outputs": [
    {
     "data": {
      "text/html": [
       "<div>\n",
       "<style scoped>\n",
       "    .dataframe tbody tr th:only-of-type {\n",
       "        vertical-align: middle;\n",
       "    }\n",
       "\n",
       "    .dataframe tbody tr th {\n",
       "        vertical-align: top;\n",
       "    }\n",
       "\n",
       "    .dataframe thead th {\n",
       "        text-align: right;\n",
       "    }\n",
       "</style>\n",
       "<table border=\"1\" class=\"dataframe\">\n",
       "  <thead>\n",
       "    <tr style=\"text-align: right;\">\n",
       "      <th></th>\n",
       "      <th>Country</th>\n",
       "      <th>Year</th>\n",
       "      <th>Population</th>\n",
       "      <th>CO2</th>\n",
       "      <th>Coal_CO2</th>\n",
       "      <th>Oil_CO2</th>\n",
       "      <th>Gas_CO2</th>\n",
       "      <th>Cement_CO2</th>\n",
       "      <th>Flaring_CO2</th>\n",
       "      <th>Other_Industry_CO2</th>\n",
       "      <th>CO2_per_capita</th>\n",
       "    </tr>\n",
       "  </thead>\n",
       "  <tbody>\n",
       "    <tr>\n",
       "      <th>101</th>\n",
       "      <td>Afghanistan</td>\n",
       "      <td>1951</td>\n",
       "      <td>0.000949</td>\n",
       "      <td>0.006129</td>\n",
       "      <td>0.025648</td>\n",
       "      <td>0.065952</td>\n",
       "      <td>0.0</td>\n",
       "      <td>0.0</td>\n",
       "      <td>0.0</td>\n",
       "      <td>NaN</td>\n",
       "      <td>0.000007</td>\n",
       "    </tr>\n",
       "    <tr>\n",
       "      <th>102</th>\n",
       "      <td>Afghanistan</td>\n",
       "      <td>1952</td>\n",
       "      <td>0.000961</td>\n",
       "      <td>0.006140</td>\n",
       "      <td>0.031708</td>\n",
       "      <td>0.059892</td>\n",
       "      <td>0.0</td>\n",
       "      <td>0.0</td>\n",
       "      <td>0.0</td>\n",
       "      <td>NaN</td>\n",
       "      <td>0.000007</td>\n",
       "    </tr>\n",
       "    <tr>\n",
       "      <th>103</th>\n",
       "      <td>Afghanistan</td>\n",
       "      <td>1953</td>\n",
       "      <td>0.000974</td>\n",
       "      <td>0.006153</td>\n",
       "      <td>0.037949</td>\n",
       "      <td>0.068307</td>\n",
       "      <td>0.0</td>\n",
       "      <td>0.0</td>\n",
       "      <td>0.0</td>\n",
       "      <td>NaN</td>\n",
       "      <td>0.000007</td>\n",
       "    </tr>\n",
       "    <tr>\n",
       "      <th>104</th>\n",
       "      <td>Afghanistan</td>\n",
       "      <td>1954</td>\n",
       "      <td>0.000986</td>\n",
       "      <td>0.006167</td>\n",
       "      <td>0.042502</td>\n",
       "      <td>0.063754</td>\n",
       "      <td>0.0</td>\n",
       "      <td>0.0</td>\n",
       "      <td>0.0</td>\n",
       "      <td>NaN</td>\n",
       "      <td>0.000007</td>\n",
       "    </tr>\n",
       "    <tr>\n",
       "      <th>105</th>\n",
       "      <td>Afghanistan</td>\n",
       "      <td>1955</td>\n",
       "      <td>0.001000</td>\n",
       "      <td>0.006181</td>\n",
       "      <td>0.062288</td>\n",
       "      <td>0.091600</td>\n",
       "      <td>0.0</td>\n",
       "      <td>0.0</td>\n",
       "      <td>0.0</td>\n",
       "      <td>NaN</td>\n",
       "      <td>0.000007</td>\n",
       "    </tr>\n",
       "  </tbody>\n",
       "</table>\n",
       "</div>"
      ],
      "text/plain": [
       "         Country  Year  Population       CO2  Coal_CO2   Oil_CO2  Gas_CO2  \\\n",
       "101  Afghanistan  1951    0.000949  0.006129  0.025648  0.065952      0.0   \n",
       "102  Afghanistan  1952    0.000961  0.006140  0.031708  0.059892      0.0   \n",
       "103  Afghanistan  1953    0.000974  0.006153  0.037949  0.068307      0.0   \n",
       "104  Afghanistan  1954    0.000986  0.006167  0.042502  0.063754      0.0   \n",
       "105  Afghanistan  1955    0.001000  0.006181  0.062288  0.091600      0.0   \n",
       "\n",
       "     Cement_CO2  Flaring_CO2  Other_Industry_CO2  CO2_per_capita  \n",
       "101         0.0          0.0                 NaN        0.000007  \n",
       "102         0.0          0.0                 NaN        0.000007  \n",
       "103         0.0          0.0                 NaN        0.000007  \n",
       "104         0.0          0.0                 NaN        0.000007  \n",
       "105         0.0          0.0                 NaN        0.000007  "
      ]
     },
     "execution_count": 19,
     "metadata": {},
     "output_type": "execute_result"
    }
   ],
   "source": [
    "df.head()"
   ]
  },
  {
   "cell_type": "code",
   "execution_count": null,
   "metadata": {},
   "outputs": [],
   "source": []
  }
 ],
 "metadata": {
  "application/vnd.databricks.v1+notebook": {
   "dashboards": [],
   "environmentMetadata": null,
   "language": "python",
   "notebookMetadata": {
    "pythonIndentUnit": 4
   },
   "notebookName": "data_preprocessing",
   "widgets": {}
  },
  "kernelspec": {
   "display_name": "Python 3",
   "language": "python",
   "name": "python3"
  },
  "language_info": {
   "codemirror_mode": {
    "name": "ipython",
    "version": 3
   },
   "file_extension": ".py",
   "mimetype": "text/x-python",
   "name": "python",
   "nbconvert_exporter": "python",
   "pygments_lexer": "ipython3",
   "version": "3.11.10"
  }
 },
 "nbformat": 4,
 "nbformat_minor": 0
}
