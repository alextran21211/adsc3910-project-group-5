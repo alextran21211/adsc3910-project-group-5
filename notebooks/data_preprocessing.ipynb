{
 "cells": [
  {
   "cell_type": "code",
   "execution_count": 2,
   "metadata": {
    "application/vnd.databricks.v1+cell": {
     "cellMetadata": {
      "byteLimit": 2048000,
      "rowLimit": 10000
     },
     "inputWidgets": {},
     "nuid": "8712cedf-5d8c-4baa-ac22-a1556a2a2740",
     "showTitle": false,
     "title": ""
    }
   },
   "outputs": [],
   "source": [
    "username = \"alextran21211\"\n",
    "password = \"database12345\"\n",
    "host = \"cluster0.zsych.mongodb.net\"\n",
    "database = \"group_5_project\"\n",
    "collection = \"co2_emission\"\n"
   ]
  },
  {
   "cell_type": "code",
   "execution_count": 3,
   "metadata": {
    "application/vnd.databricks.v1+cell": {
     "cellMetadata": {
      "byteLimit": 2048000,
      "rowLimit": 10000
     },
     "inputWidgets": {},
     "nuid": "44f9730d-ea11-45a2-ad81-6e687eecae77",
     "showTitle": false,
     "title": ""
    }
   },
   "outputs": [],
   "source": [
    "from pymongo import MongoClient # import mongo client to connect\n",
    "import pandas as pd\n",
    "from pyspark.sql import SparkSession\n",
    "from pyspark.sql.functions import col, count, isnan, mean, stddev, min, max, desc\n",
    "from pyspark.sql.types import StructType, StructField, StringType, IntegerType, FloatType\n",
    "import urllib.parse\n",
    "from sklearn.preprocessing import MinMaxScaler"
   ]
  },
  {
   "cell_type": "code",
   "execution_count": 4,
   "metadata": {
    "application/vnd.databricks.v1+cell": {
     "cellMetadata": {
      "byteLimit": 2048000,
      "rowLimit": 10000
     },
     "inputWidgets": {},
     "nuid": "7eb663ed-96cf-439f-9fb5-b02c50e70c2a",
     "showTitle": false,
     "title": ""
    }
   },
   "outputs": [],
   "source": [
    "username = username\n",
    "password = urllib.parse.quote(password)\n",
    "host = host\n",
    "url = \"mongodb+srv://{}:{}@{}/?retryWrites=true&w=majority\".format(username,\n",
    "password, host)\n",
    "# connect to the database\n",
    "client = MongoClient(url)"
   ]
  },
  {
   "cell_type": "code",
   "execution_count": 5,
   "metadata": {
    "application/vnd.databricks.v1+cell": {
     "cellMetadata": {
      "byteLimit": 2048000,
      "rowLimit": 10000
     },
     "inputWidgets": {},
     "nuid": "5a144a77-b600-47ce-8720-70a75940d3e5",
     "showTitle": false,
     "title": ""
    }
   },
   "outputs": [],
   "source": [
    "db = client['group_5_project']\n",
    "collection = db[\"co2_emission\"]\n",
    "\n",
    "documents = collection.find()\n",
    "\n",
    "data = []\n",
    "\n",
    "for doc in documents:\n",
    "    for country, country_data in doc.items():\n",
    "        if country == \"_id\":\n",
    "            continue  \n",
    "        iso_code = country_data.get('iso_code')\n",
    "        for entry in country_data.get('data', []):\n",
    "            year = entry.get('year')\n",
    "            population = entry.get('population')\n",
    "            co2 = entry.get('cumulative_luc_co2')\n",
    "           \n",
    "            data.append({\n",
    "                'Country': country,\n",
    "                'ISO_Code': iso_code,\n",
    "                'Year': year,\n",
    "                'Population': population,\n",
    "                'CO2': co2\n",
    "            })\n",
    "\n",
    "\n",
    "df = pd.DataFrame(data)\n"
   ]
  },
  {
   "cell_type": "code",
   "execution_count": 6,
   "metadata": {
    "application/vnd.databricks.v1+cell": {
     "cellMetadata": {
      "byteLimit": 2048000,
      "rowLimit": 10000
     },
     "inputWidgets": {},
     "nuid": "5070f34c-4439-4d3e-a05f-16b0226c1e91",
     "showTitle": false,
     "title": ""
    }
   },
   "outputs": [
    {
     "name": "stdout",
     "output_type": "stream",
     "text": [
      "       Country ISO_Code  Year  Population        CO2\n",
      "0  Afghanistan      AFG  1850   3752993.0   2.979601\n",
      "1  Afghanistan      AFG  1851   3767956.0   5.981443\n",
      "2  Afghanistan      AFG  1852   3783940.0   9.002998\n",
      "3  Afghanistan      AFG  1853   3800954.0  12.041333\n",
      "4  Afghanistan      AFG  1854   3818038.0  15.094068\n"
     ]
    }
   ],
   "source": [
    "print(df.head())"
   ]
  },
  {
   "cell_type": "code",
   "execution_count": 7,
   "metadata": {
    "application/vnd.databricks.v1+cell": {
     "cellMetadata": {
      "byteLimit": 2048000,
      "rowLimit": 10000
     },
     "inputWidgets": {},
     "nuid": "7a7bc157-668e-4ad7-8167-74dddc98856b",
     "showTitle": false,
     "title": ""
    }
   },
   "outputs": [
    {
     "name": "stdout",
     "output_type": "stream",
     "text": [
      "<class 'pandas.core.frame.DataFrame'>\n",
      "RangeIndex: 47415 entries, 0 to 47414\n",
      "Data columns (total 5 columns):\n",
      " #   Column      Non-Null Count  Dtype  \n",
      "---  ------      --------------  -----  \n",
      " 0   Country     47415 non-null  object \n",
      " 1   ISO_Code    39548 non-null  object \n",
      " 2   Year        47415 non-null  int64  \n",
      " 3   Population  39414 non-null  float64\n",
      " 4   CO2         37022 non-null  float64\n",
      "dtypes: float64(2), int64(1), object(2)\n",
      "memory usage: 1.8+ MB\n",
      "None\n"
     ]
    }
   ],
   "source": [
    "print(df.info())  "
   ]
  },
  {
   "cell_type": "code",
   "execution_count": 8,
   "metadata": {
    "application/vnd.databricks.v1+cell": {
     "cellMetadata": {
      "byteLimit": 2048000,
      "rowLimit": 10000
     },
     "inputWidgets": {},
     "nuid": "fae78f12-e96c-4be2-a380-03f5ee161449",
     "showTitle": false,
     "title": ""
    }
   },
   "outputs": [
    {
     "name": "stdout",
     "output_type": "stream",
     "text": [
      "Country           0\n",
      "ISO_Code       7867\n",
      "Year              0\n",
      "Population     8001\n",
      "CO2           10393\n",
      "dtype: int64\n"
     ]
    }
   ],
   "source": [
    "print(df.isnull().sum()) "
   ]
  },
  {
   "cell_type": "code",
   "execution_count": 9,
   "metadata": {
    "application/vnd.databricks.v1+cell": {
     "cellMetadata": {
      "byteLimit": 2048000,
      "rowLimit": 10000
     },
     "inputWidgets": {},
     "nuid": "f27fcbfe-9fe1-4239-a2e2-80f9f0cc7e4f",
     "showTitle": false,
     "title": ""
    }
   },
   "outputs": [],
   "source": [
    "df['Population'] = df['Population'].fillna(df['Population'].mean()) \n",
    "df['CO2'] = df['CO2'].fillna(df['CO2'].mean())  \n",
    "df['ISO_Code'] = df['ISO_Code'].dropna"
   ]
  },
  {
   "cell_type": "code",
   "execution_count": 10,
   "metadata": {
    "application/vnd.databricks.v1+cell": {
     "cellMetadata": {
      "byteLimit": 2048000,
      "rowLimit": 10000
     },
     "inputWidgets": {},
     "nuid": "a48e0675-203a-48ce-86ea-8abd0697bf93",
     "showTitle": false,
     "title": ""
    }
   },
   "outputs": [],
   "source": [
    "df['CO2_per_capita'] = df['CO2'] / df['Population']"
   ]
  },
  {
   "cell_type": "code",
   "execution_count": 11,
   "metadata": {
    "application/vnd.databricks.v1+cell": {
     "cellMetadata": {
      "byteLimit": 2048000,
      "rowLimit": 10000
     },
     "inputWidgets": {},
     "nuid": "ec520277-bd1e-4727-8d0f-d1fea39cf8e0",
     "showTitle": false,
     "title": ""
    }
   },
   "outputs": [],
   "source": [
    "df.drop_duplicates(inplace=True)"
   ]
  },
  {
   "cell_type": "code",
   "execution_count": 12,
   "metadata": {
    "application/vnd.databricks.v1+cell": {
     "cellMetadata": {
      "byteLimit": 2048000,
      "rowLimit": 10000
     },
     "inputWidgets": {},
     "nuid": "53f39dcc-aa76-4001-89b8-31d09492e09f",
     "showTitle": false,
     "title": ""
    }
   },
   "outputs": [
    {
     "name": "stdout",
     "output_type": "stream",
     "text": [
      "Country           0\n",
      "ISO_Code          0\n",
      "Year              0\n",
      "Population        0\n",
      "CO2               0\n",
      "CO2_per_capita    0\n",
      "dtype: int64\n"
     ]
    }
   ],
   "source": [
    "print(df.isnull().sum()) "
   ]
  },
  {
   "cell_type": "code",
   "execution_count": 13,
   "metadata": {
    "application/vnd.databricks.v1+cell": {
     "cellMetadata": {
      "byteLimit": 2048000,
      "rowLimit": 10000
     },
     "inputWidgets": {},
     "nuid": "ae1d1eaa-c583-4c63-8396-a2ec57827f03",
     "showTitle": false,
     "title": ""
    }
   },
   "outputs": [
    {
     "name": "stdout",
     "output_type": "stream",
     "text": [
      "       Country  Year  Population        CO2  CO2_per_capita\n",
      "0  Afghanistan  1850   3752993.0   2.979601    7.939267e-07\n",
      "1  Afghanistan  1851   3767956.0   5.981443    1.587450e-06\n",
      "2  Afghanistan  1852   3783940.0   9.002998    2.379266e-06\n",
      "3  Afghanistan  1853   3800954.0  12.041333    3.167977e-06\n",
      "4  Afghanistan  1854   3818038.0  15.094068    3.953357e-06\n"
     ]
    }
   ],
   "source": [
    "df = df.drop(columns=['ISO_Code'])\n",
    "print(df.head())"
   ]
  },
  {
   "cell_type": "code",
   "execution_count": 14,
   "metadata": {
    "application/vnd.databricks.v1+cell": {
     "cellMetadata": {
      "byteLimit": 2048000,
      "rowLimit": 10000
     },
     "inputWidgets": {},
     "nuid": "4028b3f0-aeb8-4615-a1e6-f9e57e70b5d9",
     "showTitle": false,
     "title": ""
    }
   },
   "outputs": [],
   "source": [
    "scaler = MinMaxScaler()\n",
    "df[['Population', 'CO2', 'CO2_per_capita']] = scaler.fit_transform(df[['Population', 'CO2', 'CO2_per_capita']])"
   ]
  },
  {
   "cell_type": "code",
   "execution_count": 15,
   "metadata": {
    "application/vnd.databricks.v1+cell": {
     "cellMetadata": {
      "byteLimit": 2048000,
      "rowLimit": 10000
     },
     "inputWidgets": {},
     "nuid": "48e7607b-ac22-4302-ae9a-46f84edaa6d5",
     "showTitle": false,
     "title": ""
    }
   },
   "outputs": [
    {
     "name": "stdout",
     "output_type": "stream",
     "text": [
      "               Year    Population           CO2  CO2_per_capita\n",
      "count  47415.000000  47415.000000  47415.000000    47415.000000\n",
      "mean    1926.781609      0.007643      0.017994        0.000938\n",
      "std       59.561600      0.037602      0.048560        0.012920\n",
      "min     1750.000000      0.000000      0.000000        0.000000\n",
      "25%     1883.000000      0.000073      0.005530        0.000006\n",
      "50%     1930.000000      0.000521      0.006442        0.000009\n",
      "75%     1976.000000      0.007104      0.017994        0.000012\n",
      "max     2022.000000      1.000000      1.000000        1.000000\n",
      "       Country  Year  Population       CO2  CO2_per_capita\n",
      "0  Afghanistan  1850    0.000471  0.005472        0.000006\n",
      "1  Afghanistan  1851    0.000472  0.005476        0.000006\n",
      "2  Afghanistan  1852    0.000474  0.005480        0.000006\n",
      "3  Afghanistan  1853    0.000477  0.005483        0.000006\n",
      "4  Afghanistan  1854    0.000479  0.005487        0.000006\n"
     ]
    }
   ],
   "source": [
    "print(df.describe())        # Summary statistics\n",
    "print(df.head())"
   ]
  },
  {
   "cell_type": "code",
   "execution_count": 16,
   "metadata": {
    "application/vnd.databricks.v1+cell": {
     "cellMetadata": {
      "byteLimit": 2048000,
      "rowLimit": 10000
     },
     "inputWidgets": {},
     "nuid": "4d911adb-b099-4003-bb7c-28f5b16c0d99",
     "showTitle": false,
     "title": ""
    }
   },
   "outputs": [],
   "source": [
    "df.to_csv(\"co2_emission_preprocessed.csv\", index=False)"
   ]
  },
  {
   "cell_type": "code",
   "execution_count": 17,
   "metadata": {
    "application/vnd.databricks.v1+cell": {
     "cellMetadata": {},
     "inputWidgets": {},
     "nuid": "5881789a-5cc8-403a-8533-d2ec066c18e7",
     "showTitle": false,
     "title": ""
    }
   },
   "outputs": [
    {
     "data": {
      "text/html": [
       "<div>\n",
       "<style scoped>\n",
       "    .dataframe tbody tr th:only-of-type {\n",
       "        vertical-align: middle;\n",
       "    }\n",
       "\n",
       "    .dataframe tbody tr th {\n",
       "        vertical-align: top;\n",
       "    }\n",
       "\n",
       "    .dataframe thead th {\n",
       "        text-align: right;\n",
       "    }\n",
       "</style>\n",
       "<table border=\"1\" class=\"dataframe\">\n",
       "  <thead>\n",
       "    <tr style=\"text-align: right;\">\n",
       "      <th></th>\n",
       "      <th>Country</th>\n",
       "      <th>Year</th>\n",
       "      <th>Population</th>\n",
       "      <th>CO2</th>\n",
       "      <th>CO2_per_capita</th>\n",
       "    </tr>\n",
       "  </thead>\n",
       "  <tbody>\n",
       "    <tr>\n",
       "      <th>0</th>\n",
       "      <td>Afghanistan</td>\n",
       "      <td>1850</td>\n",
       "      <td>0.000471</td>\n",
       "      <td>0.005472</td>\n",
       "      <td>0.000006</td>\n",
       "    </tr>\n",
       "    <tr>\n",
       "      <th>1</th>\n",
       "      <td>Afghanistan</td>\n",
       "      <td>1851</td>\n",
       "      <td>0.000472</td>\n",
       "      <td>0.005476</td>\n",
       "      <td>0.000006</td>\n",
       "    </tr>\n",
       "    <tr>\n",
       "      <th>2</th>\n",
       "      <td>Afghanistan</td>\n",
       "      <td>1852</td>\n",
       "      <td>0.000474</td>\n",
       "      <td>0.005480</td>\n",
       "      <td>0.000006</td>\n",
       "    </tr>\n",
       "    <tr>\n",
       "      <th>3</th>\n",
       "      <td>Afghanistan</td>\n",
       "      <td>1853</td>\n",
       "      <td>0.000477</td>\n",
       "      <td>0.005483</td>\n",
       "      <td>0.000006</td>\n",
       "    </tr>\n",
       "    <tr>\n",
       "      <th>4</th>\n",
       "      <td>Afghanistan</td>\n",
       "      <td>1854</td>\n",
       "      <td>0.000479</td>\n",
       "      <td>0.005487</td>\n",
       "      <td>0.000006</td>\n",
       "    </tr>\n",
       "  </tbody>\n",
       "</table>\n",
       "</div>"
      ],
      "text/plain": [
       "       Country  Year  Population       CO2  CO2_per_capita\n",
       "0  Afghanistan  1850    0.000471  0.005472        0.000006\n",
       "1  Afghanistan  1851    0.000472  0.005476        0.000006\n",
       "2  Afghanistan  1852    0.000474  0.005480        0.000006\n",
       "3  Afghanistan  1853    0.000477  0.005483        0.000006\n",
       "4  Afghanistan  1854    0.000479  0.005487        0.000006"
      ]
     },
     "execution_count": 17,
     "metadata": {},
     "output_type": "execute_result"
    }
   ],
   "source": [
    "df.head()"
   ]
  },
  {
   "cell_type": "code",
   "execution_count": null,
   "metadata": {},
   "outputs": [],
   "source": []
  }
 ],
 "metadata": {
  "application/vnd.databricks.v1+notebook": {
   "dashboards": [],
   "environmentMetadata": null,
   "language": "python",
   "notebookMetadata": {
    "pythonIndentUnit": 4
   },
   "notebookName": "data_preprocessing",
   "widgets": {}
  },
  "kernelspec": {
   "display_name": "Python 3",
   "language": "python",
   "name": "python3"
  },
  "language_info": {
   "codemirror_mode": {
    "name": "ipython",
    "version": 3
   },
   "file_extension": ".py",
   "mimetype": "text/x-python",
   "name": "python",
   "nbconvert_exporter": "python",
   "pygments_lexer": "ipython3",
   "version": "3.12.6"
  }
 },
 "nbformat": 4,
 "nbformat_minor": 0
}
