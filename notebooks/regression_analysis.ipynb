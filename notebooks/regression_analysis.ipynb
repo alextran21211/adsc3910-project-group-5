{
 "cells": [
  {
   "cell_type": "markdown",
   "metadata": {},
   "source": [
    "Multi variate Regression Analysis"
   ]
  },
  {
   "cell_type": "code",
   "execution_count": 2,
   "metadata": {},
   "outputs": [],
   "source": [
    "import pandas as pd\n",
    "import matplotlib.pyplot as plt\n",
    "import seaborn as sns\n",
    "import numpy as np\n",
    "from sklearn.model_selection import train_test_split\n",
    "from sklearn.linear_model import LinearRegression\n",
    "from sklearn.metrics import mean_squared_error, r2_score"
   ]
  },
  {
   "cell_type": "code",
   "execution_count": 3,
   "metadata": {},
   "outputs": [],
   "source": [
    "# Load the dataset from the CSV file\n",
    "df = pd.read_csv('co2_emission_preprocessed.csv')  # Replace 'your_dataset.csv' with the path to your CSV file\n",
    "\n"
   ]
  },
  {
   "cell_type": "code",
   "execution_count": 4,
   "metadata": {},
   "outputs": [
    {
     "name": "stdout",
     "output_type": "stream",
     "text": [
      "                    Year  Population       CO2  CO2_per_capita\n",
      "Year            1.000000    0.058253  0.111116       -0.022562\n",
      "Population      0.058253    1.000000  0.846613       -0.014618\n",
      "CO2             0.111116    0.846613  1.000000        0.000094\n",
      "CO2_per_capita -0.022562   -0.014618  0.000094        1.000000\n"
     ]
    }
   ],
   "source": [
    "# Calculate the correlation matrix excluding non-numeric columns\n",
    "correlation_matrix = df.select_dtypes(include=[np.number]).corr()\n",
    "print(correlation_matrix)\n"
   ]
  },
  {
   "cell_type": "markdown",
   "metadata": {},
   "source": [
    "The most significant relationship in the dataset is the strong positive correlation between Population and CO2. This suggests that larger populations tend to produce more CO2 emissions."
   ]
  },
  {
   "cell_type": "code",
   "execution_count": 5,
   "metadata": {},
   "outputs": [
    {
     "name": "stdout",
     "output_type": "stream",
     "text": [
      "Mean Squared Error: 0.0004161874853057511\n",
      "R-squared: 0.00015509475606179102\n",
      "Intercept: 0.00961964310792363\n",
      "Coefficients: [-4.12940194e-03 -4.52069484e-06]\n"
     ]
    }
   ],
   "source": [
    "\n",
    "\n",
    "# Prepare the independent variables (features) and the target variable\n",
    "X = df[['Population', 'Year']]  # Independent variables\n",
    "y = df['CO2_per_capita']  # Target variable\n",
    "\n",
    "# Split the data into training and testing sets\n",
    "X_train, X_test, y_train, y_test = train_test_split(X, y, test_size=0.2, random_state=42)\n",
    "\n",
    "# Create a linear regression model\n",
    "model = LinearRegression()\n",
    "\n",
    "# Fit the model\n",
    "model.fit(X_train, y_train)\n",
    "\n",
    "# Predict on the test set\n",
    "y_pred = model.predict(X_test)\n",
    "\n",
    "# Evaluate the model\n",
    "mse = mean_squared_error(y_test, y_pred)\n",
    "r2 = r2_score(y_test, y_pred)\n",
    "\n",
    "# Output the results\n",
    "print(\"Mean Squared Error:\", mse)\n",
    "print(\"R-squared:\", r2)\n",
    "print(\"Intercept:\", model.intercept_)\n",
    "print(\"Coefficients:\", model.coef_)\n"
   ]
  },
  {
   "cell_type": "markdown",
   "metadata": {},
   "source": [
    "Since we see non-linear patterns, we consider fitting a polynomial regression model."
   ]
  },
  {
   "cell_type": "markdown",
   "metadata": {},
   "source": [
    "## Polynomial REgression model"
   ]
  },
  {
   "cell_type": "code",
   "execution_count": 6,
   "metadata": {},
   "outputs": [
    {
     "name": "stdout",
     "output_type": "stream",
     "text": [
      "Polynomial Mean Squared Error: 0.0004161084354711419\n",
      "Polynomial R-squared: 0.0003450033361728222\n"
     ]
    }
   ],
   "source": [
    "from sklearn.preprocessing import PolynomialFeatures\n",
    "\n",
    "poly = PolynomialFeatures(degree=2)  # You can change the degree as needed\n",
    "X_poly = poly.fit_transform(X)\n",
    "\n",
    "# Split the polynomial features into training and testing sets\n",
    "X_train_poly, X_test_poly, y_train, y_test = train_test_split(X_poly, y, test_size=0.2, random_state=42)\n",
    "\n",
    "# Create and fit the model\n",
    "model_poly = LinearRegression()\n",
    "model_poly.fit(X_train_poly, y_train)\n",
    "\n",
    "# Predict and evaluate\n",
    "y_pred_poly = model_poly.predict(X_test_poly)\n",
    "mse_poly = mean_squared_error(y_test, y_pred_poly)\n",
    "r2_poly = r2_score(y_test, y_pred_poly)\n",
    "\n",
    "print(\"Polynomial Mean Squared Error:\", mse_poly)\n",
    "print(\"Polynomial R-squared:\", r2_poly)\n"
   ]
  },
  {
   "cell_type": "markdown",
   "metadata": {},
   "source": [
    "R² of 0.000345 suggests that the model does not explain much of the variance in the target variable, meaning there is underfitting. But, if we increase the degree of polynomial, there is a risk of overfitting. We need to explore alternate methods to improve performance and accuracy of analysis."
   ]
  }
 ],
 "metadata": {
  "kernelspec": {
   "display_name": "Python 3",
   "language": "python",
   "name": "python3"
  },
  "language_info": {
   "codemirror_mode": {
    "name": "ipython",
    "version": 3
   },
   "file_extension": ".py",
   "mimetype": "text/x-python",
   "name": "python",
   "nbconvert_exporter": "python",
   "pygments_lexer": "ipython3",
   "version": "3.12.6"
  }
 },
 "nbformat": 4,
 "nbformat_minor": 2
}
