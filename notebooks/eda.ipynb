{
 "cells": [
  {
   "cell_type": "code",
   "execution_count": 1,
   "metadata": {},
   "outputs": [],
   "source": [
    "# EDA\n",
    "\n",
    "from pymongo import MongoClient # import mongo client to connect\n",
    "import pandas as pd\n",
    "from pyspark.sql import SparkSession\n",
    "from pyspark.sql.functions import col, count, isnan, mean, stddev, min, max, desc\n",
    "from pyspark.sql.types import StructType, StructField, StringType, IntegerType, FloatType\n",
    "import urllib.parse\n",
    "from sklearn.preprocessing import MinMaxScaler"
   ]
  },
  {
   "cell_type": "code",
   "execution_count": 2,
   "metadata": {},
   "outputs": [],
   "source": [
    "username = \"alextran21211\"\n",
    "password = urllib.parse.quote(\"database12345\")\n",
    "host = \"cluster0.zsych.mongodb.net\"\n",
    "url = \"mongodb+srv://{}:{}@{}/?retryWrites=true&w=majority\".format(username,\n",
    "password, host)\n",
    "# connect to the database\n",
    "client = MongoClient(url)"
   ]
  },
  {
   "cell_type": "code",
   "execution_count": 3,
   "metadata": {},
   "outputs": [],
   "source": [
    "db = client['group_5_project']\n",
    "collection = db[\"co2_emission\"]\n",
    "\n",
    "documents = collection.find()\n",
    "\n",
    "data = []\n",
    "\n",
    "for doc in documents:\n",
    "    for country, country_data in doc.items():\n",
    "        if country == \"_id\":\n",
    "            continue  \n",
    "        iso_code = country_data.get('iso_code')\n",
    "        for entry in country_data.get('data', []):\n",
    "            year = entry.get('year')\n",
    "            population = entry.get('population')\n",
    "            co2 = entry.get('cumulative_luc_co2')\n",
    "           \n",
    "            data.append({\n",
    "                'Country': country,\n",
    "                'ISO_Code': iso_code,\n",
    "                'Year': year,\n",
    "                'Population': population,\n",
    "                'CO2': co2\n",
    "            })\n",
    "\n",
    "\n",
    "df = pd.DataFrame(data)\n"
   ]
  },
  {
   "cell_type": "code",
   "execution_count": 4,
   "metadata": {},
   "outputs": [
    {
     "name": "stdout",
     "output_type": "stream",
     "text": [
      "Country           0\n",
      "ISO_Code       7867\n",
      "Year              0\n",
      "Population     8001\n",
      "CO2           10393\n",
      "dtype: int64\n"
     ]
    }
   ],
   "source": [
    "print(df.isnull().sum()) "
   ]
  },
  {
   "cell_type": "code",
   "execution_count": 5,
   "metadata": {},
   "outputs": [],
   "source": [
    "df['Population'] = df['Population'].fillna(df['Population'].mean()) \n",
    "df['CO2'] = df['CO2'].fillna(df['CO2'].mean())  \n",
    "df['ISO_Code'] = df['ISO_Code'].dropna"
   ]
  },
  {
   "cell_type": "code",
   "execution_count": 6,
   "metadata": {},
   "outputs": [],
   "source": [
    "df['CO2_per_capita'] = df['CO2'] / df['Population']"
   ]
  },
  {
   "cell_type": "code",
   "execution_count": 7,
   "metadata": {},
   "outputs": [],
   "source": [
    "df.drop_duplicates(inplace=True)"
   ]
  },
  {
   "cell_type": "code",
   "execution_count": 8,
   "metadata": {},
   "outputs": [
    {
     "name": "stdout",
     "output_type": "stream",
     "text": [
      "       Country  Year  Population        CO2  CO2_per_capita\n",
      "0  Afghanistan  1850   3752993.0   2.979601    7.939267e-07\n",
      "1  Afghanistan  1851   3767956.0   5.981443    1.587450e-06\n",
      "2  Afghanistan  1852   3783940.0   9.002998    2.379266e-06\n",
      "3  Afghanistan  1853   3800954.0  12.041333    3.167977e-06\n",
      "4  Afghanistan  1854   3818038.0  15.094068    3.953357e-06\n"
     ]
    }
   ],
   "source": [
    "df = df.drop(columns=['ISO_Code'])\n",
    "print(df.head())"
   ]
  }
 ],
 "metadata": {
  "kernelspec": {
   "display_name": "adsc3910-project-group-5",
   "language": "python",
   "name": "python3"
  },
  "language_info": {
   "codemirror_mode": {
    "name": "ipython",
    "version": 3
   },
   "file_extension": ".py",
   "mimetype": "text/x-python",
   "name": "python",
   "nbconvert_exporter": "python",
   "pygments_lexer": "ipython3",
   "version": "3.11.10"
  }
 },
 "nbformat": 4,
 "nbformat_minor": 2
}
